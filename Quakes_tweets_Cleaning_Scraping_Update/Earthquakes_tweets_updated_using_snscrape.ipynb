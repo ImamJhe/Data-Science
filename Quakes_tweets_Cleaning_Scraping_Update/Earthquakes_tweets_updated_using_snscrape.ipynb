{
 "cells": [
  {
   "cell_type": "markdown",
   "id": "558369c2",
   "metadata": {
    "papermill": {
     "duration": 0.006117,
     "end_time": "2023-06-02T23:07:06.705865",
     "exception": false,
     "start_time": "2023-06-02T23:07:06.699748",
     "status": "completed"
    },
    "tags": []
   },
   "source": [
    "#### This code is used for auto updating the <a href = 'https://www.kaggle.com/datasets/aryansingh0909/earthquakes-alerts-tweets-dataset-daily-updated'> Earthquakes Alerts Tweets Dataset (Daily Updated)</a>"
   ]
  },
  {
   "cell_type": "markdown",
   "id": "938d6cc2",
   "metadata": {
    "papermill": {
     "duration": 0.00496,
     "end_time": "2023-06-02T23:07:06.716069",
     "exception": false,
     "start_time": "2023-06-02T23:07:06.711109",
     "status": "completed"
    },
    "tags": []
   },
   "source": [
    "## Installing snscrape"
   ]
  },
  {
   "cell_type": "code",
   "execution_count": 1,
   "id": "9103dbda",
   "metadata": {
    "execution": {
     "iopub.execute_input": "2023-06-02T23:07:06.728087Z",
     "iopub.status.busy": "2023-06-02T23:07:06.727698Z",
     "iopub.status.idle": "2023-06-02T23:07:06.733519Z",
     "shell.execute_reply": "2023-06-02T23:07:06.732453Z"
    },
    "papermill": {
     "duration": 0.015489,
     "end_time": "2023-06-02T23:07:06.736499",
     "exception": false,
     "start_time": "2023-06-02T23:07:06.721010",
     "status": "completed"
    },
    "tags": []
   },
   "outputs": [],
   "source": [
    "# pip3 install snscrape"
   ]
  },
  {
   "cell_type": "markdown",
   "id": "02b9b930",
   "metadata": {
    "papermill": {
     "duration": 0.004876,
     "end_time": "2023-06-02T23:07:06.747539",
     "exception": false,
     "start_time": "2023-06-02T23:07:06.742663",
     "status": "completed"
    },
    "tags": []
   },
   "source": [
    "However, this will not be the developer version. Instead, I recommend using the below command to download the snscrape dev version:"
   ]
  },
  {
   "cell_type": "markdown",
   "id": "212ed77f",
   "metadata": {
    "papermill": {
     "duration": 0.006159,
     "end_time": "2023-06-02T23:07:39.014038",
     "exception": false,
     "start_time": "2023-06-02T23:07:39.007879",
     "status": "completed"
    },
    "tags": []
   },
   "source": [
    "Perfect, now that we’ve set up snscrape and peeripheral requirements, let’s jump right into using snscrape!"
   ]
  },
  {
   "cell_type": "markdown",
   "id": "d704b313",
   "metadata": {
    "papermill": {
     "duration": 0.005898,
     "end_time": "2023-06-02T23:07:39.026135",
     "exception": false,
     "start_time": "2023-06-02T23:07:39.020237",
     "status": "completed"
    },
    "tags": []
   },
   "source": [
    "## Using snscrape"
   ]
  },
  {
   "cell_type": "code",
   "execution_count": 2,
   "id": "3aef227f",
   "metadata": {
    "execution": {
     "iopub.execute_input": "2023-06-02T23:07:39.040744Z",
     "iopub.status.busy": "2023-06-02T23:07:39.040338Z",
     "iopub.status.idle": "2023-06-02T23:07:39.465732Z",
     "shell.execute_reply": "2023-06-02T23:07:39.464254Z"
    },
    "papermill": {
     "duration": 0.436171,
     "end_time": "2023-06-02T23:07:39.468452",
     "exception": false,
     "start_time": "2023-06-02T23:07:39.032281",
     "status": "completed"
    },
    "tags": []
   },
   "outputs": [],
   "source": [
    "import snscrape.modules.twitter as sntwitter\n",
    "\n",
    "# Import the 'pandas' library for data manipulation and analysis\n",
    "import pandas as pd\n",
    "\n",
    "# Import the 'warnings' module and set up a filter to ignore warnings\n",
    "import warnings\n",
    "warnings.filterwarnings('ignore')\n",
    "\n",
    "# Import the 'matplotlib.pyplot' module for creating plots and visualizations\n",
    "import matplotlib.pyplot as plt\n",
    "\n",
    "# Import the 'seaborn' library for statistical data visualization\n",
    "import seaborn as sns"
   ]
  },
  {
   "cell_type": "markdown",
   "id": "48d71965",
   "metadata": {
    "papermill": {
     "duration": 0.006115,
     "end_time": "2023-06-02T23:07:39.481242",
     "exception": false,
     "start_time": "2023-06-02T23:07:39.475127",
     "status": "completed"
    },
    "tags": []
   },
   "source": [
    "Now, there are two ways of using snscrape\n",
    "\n",
    "1. Using the command prompt, terminal (Converting JSON files for Python)\n",
    "2. Using Python Wrapper\n",
    "I prefer the Python Wrapper method because I believe it's easy to interact with data scraping, rather than engaging in a two-step process with the CLI. However, if you’re interested in knowing the process with CLI, you can refer from <a href = 'https://github.com/MartinKBeck/TwitterScraper/tree/master/snscrape/cli-with-python'> here </a>.\n",
    "\n",
    "\n",
    "To explain better, wrappers around functions in Python allows modifying behavior of function or class. Basically, the wrapper wraps a second function to extend the behavior of the wrapped function, without permanently altering it.\n",
    "<!-- [1]: https://github.com/MartinKBeck/TwitterScraper/tree/master/snscrape/cli-with-python -->"
   ]
  },
  {
   "cell_type": "markdown",
   "id": "83171897",
   "metadata": {
    "papermill": {
     "duration": 0.005992,
     "end_time": "2023-06-02T23:07:39.493455",
     "exception": false,
     "start_time": "2023-06-02T23:07:39.487463",
     "status": "completed"
    },
    "tags": []
   },
   "source": [
    "## Reading the Old Data from the dataset <a href = 'https://www.kaggle.com/datasets/aryansingh0909/earthquakes-alerts-tweets-dataset-daily-updated'> Earthquakes Alerts Tweets Dataset (Daily Updated) </a>"
   ]
  },
  {
   "cell_type": "code",
   "execution_count": 3,
   "id": "a04e91a6",
   "metadata": {
    "execution": {
     "iopub.execute_input": "2023-06-02T23:07:39.508941Z",
     "iopub.status.busy": "2023-06-02T23:07:39.507430Z",
     "iopub.status.idle": "2023-06-02T23:07:39.620149Z",
     "shell.execute_reply": "2023-06-02T23:07:39.618438Z"
    },
    "papermill": {
     "duration": 0.122518,
     "end_time": "2023-06-02T23:07:39.622230",
     "exception": false,
     "start_time": "2023-06-02T23:07:39.499712",
     "status": "completed"
    },
    "tags": []
   },
   "outputs": [
    {
     "data": {
      "text/html": [
       "<div>\n",
       "<style scoped>\n",
       "    .dataframe tbody tr th:only-of-type {\n",
       "        vertical-align: middle;\n",
       "    }\n",
       "\n",
       "    .dataframe tbody tr th {\n",
       "        vertical-align: top;\n",
       "    }\n",
       "\n",
       "    .dataframe thead th {\n",
       "        text-align: right;\n",
       "    }\n",
       "</style>\n",
       "<table border=\"1\" class=\"dataframe\">\n",
       "  <thead>\n",
       "    <tr style=\"text-align: right;\">\n",
       "      <th></th>\n",
       "      <th>Datetime</th>\n",
       "      <th>Tweet Id</th>\n",
       "      <th>Text</th>\n",
       "      <th>Username</th>\n",
       "    </tr>\n",
       "  </thead>\n",
       "  <tbody>\n",
       "    <tr>\n",
       "      <th>0</th>\n",
       "      <td>2023-05-31 22:31:04+00:00</td>\n",
       "      <td>1664036800384598016</td>\n",
       "      <td>1.6 magnitude #earthquake. 22 km from Encinita...</td>\n",
       "      <td>QuakesToday</td>\n",
       "    </tr>\n",
       "    <tr>\n",
       "      <th>1</th>\n",
       "      <td>2023-05-31 22:15:03+00:00</td>\n",
       "      <td>1664032772669984768</td>\n",
       "      <td>1.8 magnitude #earthquake. 6 km from Volcano, ...</td>\n",
       "      <td>QuakesToday</td>\n",
       "    </tr>\n",
       "    <tr>\n",
       "      <th>2</th>\n",
       "      <td>2023-05-31 22:11:03+00:00</td>\n",
       "      <td>1664031765516914688</td>\n",
       "      <td>5.2 magnitude #earthquake. 11 km from Ambon, M...</td>\n",
       "      <td>QuakesToday</td>\n",
       "    </tr>\n",
       "    <tr>\n",
       "      <th>3</th>\n",
       "      <td>2023-05-31 21:59:03+00:00</td>\n",
       "      <td>1664028745299283968</td>\n",
       "      <td>2.1 magnitude #earthquake. Central Alaska http...</td>\n",
       "      <td>QuakesToday</td>\n",
       "    </tr>\n",
       "    <tr>\n",
       "      <th>4</th>\n",
       "      <td>2023-05-31 21:46:14+00:00</td>\n",
       "      <td>1664025517560045568</td>\n",
       "      <td>2.3 magnitude #earthquake. 5 km from Pāhala, H...</td>\n",
       "      <td>QuakesToday</td>\n",
       "    </tr>\n",
       "    <tr>\n",
       "      <th>...</th>\n",
       "      <td>...</td>\n",
       "      <td>...</td>\n",
       "      <td>...</td>\n",
       "      <td>...</td>\n",
       "    </tr>\n",
       "    <tr>\n",
       "      <th>12580</th>\n",
       "      <td>2023-02-16 22:08:02+00:00</td>\n",
       "      <td>1626342669235662848</td>\n",
       "      <td>1.7 magnitude #earthquake. 52 km from Homer, #...</td>\n",
       "      <td>QuakesToday</td>\n",
       "    </tr>\n",
       "    <tr>\n",
       "      <th>12581</th>\n",
       "      <td>2023-02-16 22:06:03+00:00</td>\n",
       "      <td>1626342168704212992</td>\n",
       "      <td>3.0 magnitude #earthquake. 41 km from #Willow,...</td>\n",
       "      <td>QuakesToday</td>\n",
       "    </tr>\n",
       "    <tr>\n",
       "      <th>12582</th>\n",
       "      <td>2023-02-16 21:53:03+00:00</td>\n",
       "      <td>1626338896798961664</td>\n",
       "      <td>4.8 magnitude #earthquake. Kermadec Islands, N...</td>\n",
       "      <td>QuakesToday</td>\n",
       "    </tr>\n",
       "    <tr>\n",
       "      <th>12583</th>\n",
       "      <td>2023-02-16 21:39:03+00:00</td>\n",
       "      <td>1626335374913204225</td>\n",
       "      <td>2.1 magnitude #earthquake. 3 km from ##Holtvil...</td>\n",
       "      <td>QuakesToday</td>\n",
       "    </tr>\n",
       "    <tr>\n",
       "      <th>12584</th>\n",
       "      <td>2023-02-16 21:17:03+00:00</td>\n",
       "      <td>1626329836838080512</td>\n",
       "      <td>1.9 magnitude #earthquake. 4 km from #MammothL...</td>\n",
       "      <td>QuakesToday</td>\n",
       "    </tr>\n",
       "  </tbody>\n",
       "</table>\n",
       "<p>12585 rows × 4 columns</p>\n",
       "</div>"
      ],
      "text/plain": [
       "                        Datetime             Tweet Id  \\\n",
       "0      2023-05-31 22:31:04+00:00  1664036800384598016   \n",
       "1      2023-05-31 22:15:03+00:00  1664032772669984768   \n",
       "2      2023-05-31 22:11:03+00:00  1664031765516914688   \n",
       "3      2023-05-31 21:59:03+00:00  1664028745299283968   \n",
       "4      2023-05-31 21:46:14+00:00  1664025517560045568   \n",
       "...                          ...                  ...   \n",
       "12580  2023-02-16 22:08:02+00:00  1626342669235662848   \n",
       "12581  2023-02-16 22:06:03+00:00  1626342168704212992   \n",
       "12582  2023-02-16 21:53:03+00:00  1626338896798961664   \n",
       "12583  2023-02-16 21:39:03+00:00  1626335374913204225   \n",
       "12584  2023-02-16 21:17:03+00:00  1626329836838080512   \n",
       "\n",
       "                                                    Text     Username  \n",
       "0      1.6 magnitude #earthquake. 22 km from Encinita...  QuakesToday  \n",
       "1      1.8 magnitude #earthquake. 6 km from Volcano, ...  QuakesToday  \n",
       "2      5.2 magnitude #earthquake. 11 km from Ambon, M...  QuakesToday  \n",
       "3      2.1 magnitude #earthquake. Central Alaska http...  QuakesToday  \n",
       "4      2.3 magnitude #earthquake. 5 km from Pāhala, H...  QuakesToday  \n",
       "...                                                  ...          ...  \n",
       "12580  1.7 magnitude #earthquake. 52 km from Homer, #...  QuakesToday  \n",
       "12581  3.0 magnitude #earthquake. 41 km from #Willow,...  QuakesToday  \n",
       "12582  4.8 magnitude #earthquake. Kermadec Islands, N...  QuakesToday  \n",
       "12583  2.1 magnitude #earthquake. 3 km from ##Holtvil...  QuakesToday  \n",
       "12584  1.9 magnitude #earthquake. 4 km from #MammothL...  QuakesToday  \n",
       "\n",
       "[12585 rows x 4 columns]"
      ]
     },
     "execution_count": 3,
     "metadata": {},
     "output_type": "execute_result"
    }
   ],
   "source": [
    "old_tweets_df = pd.read_csv('D:\\Imam\\Belajar\\Python\\Data_Cleaning\\Quakes_Country_tweet\\QuakesToday.csv', sep=',')\n",
    "old_tweets_df"
   ]
  },
  {
   "cell_type": "code",
   "execution_count": 4,
   "id": "75436af8",
   "metadata": {
    "execution": {
     "iopub.execute_input": "2023-06-02T23:07:39.639126Z",
     "iopub.status.busy": "2023-06-02T23:07:39.638255Z",
     "iopub.status.idle": "2023-06-02T23:07:39.642779Z",
     "shell.execute_reply": "2023-06-02T23:07:39.642115Z"
    },
    "papermill": {
     "duration": 0.015112,
     "end_time": "2023-06-02T23:07:39.645029",
     "exception": false,
     "start_time": "2023-06-02T23:07:39.629917",
     "status": "completed"
    },
    "tags": []
   },
   "outputs": [
    {
     "name": "stdout",
     "output_type": "stream",
     "text": [
      "12585\n"
     ]
    }
   ],
   "source": [
    "print(len(old_tweets_df))"
   ]
  },
  {
   "cell_type": "code",
   "execution_count": 5,
   "id": "438528cf",
   "metadata": {
    "execution": {
     "iopub.execute_input": "2023-06-02T23:07:39.660158Z",
     "iopub.status.busy": "2023-06-02T23:07:39.659876Z",
     "iopub.status.idle": "2023-06-02T23:07:39.665025Z",
     "shell.execute_reply": "2023-06-02T23:07:39.663699Z"
    },
    "papermill": {
     "duration": 0.014984,
     "end_time": "2023-06-02T23:07:39.666889",
     "exception": false,
     "start_time": "2023-06-02T23:07:39.651905",
     "status": "completed"
    },
    "tags": []
   },
   "outputs": [
    {
     "name": "stdout",
     "output_type": "stream",
     "text": [
      "1664036800384598016\n"
     ]
    }
   ],
   "source": [
    "latest_tweet_id = old_tweets_df.loc[0, 'Tweet Id']\n",
    "print(latest_tweet_id)"
   ]
  },
  {
   "cell_type": "markdown",
   "id": "99a160c6",
   "metadata": {
    "papermill": {
     "duration": 0.006437,
     "end_time": "2023-06-02T23:07:39.680152",
     "exception": false,
     "start_time": "2023-06-02T23:07:39.673715",
     "status": "completed"
    },
    "tags": []
   },
   "source": [
    "## Scraping a specific Twitter user’s tweets"
   ]
  },
  {
   "cell_type": "code",
   "execution_count": 6,
   "id": "158b28ce",
   "metadata": {
    "execution": {
     "iopub.execute_input": "2023-06-02T23:07:39.695199Z",
     "iopub.status.busy": "2023-06-02T23:07:39.694833Z",
     "iopub.status.idle": "2023-06-02T23:09:31.142630Z",
     "shell.execute_reply": "2023-06-02T23:09:31.141044Z"
    },
    "papermill": {
     "duration": 111.464528,
     "end_time": "2023-06-02T23:09:31.151244",
     "exception": false,
     "start_time": "2023-06-02T23:07:39.686716",
     "status": "completed"
    },
    "tags": []
   },
   "outputs": [
    {
     "name": "stdout",
     "output_type": "stream",
     "text": [
      "1001\n"
     ]
    }
   ],
   "source": [
    "# Creating list to append tweet data \n",
    "new_tweets_list = []\n",
    "\n",
    "# Using TwitterSearchScraper to scrape data and append tweets to list\n",
    "for i,tweet in enumerate(sntwitter.TwitterSearchScraper('from:QuakesToday').get_items()): #declare a username \n",
    "    if i>1000: #number of tweets you want to scrape\n",
    "        break\n",
    "    new_tweets_list.append([tweet.date, tweet.id, tweet.content, tweet.user.username]) #declare the attributes to be returned\n",
    "    \n",
    "# Creating a dataframe from the tweets list above \n",
    "new_tweets_df = pd.DataFrame(new_tweets_list, columns=['Datetime', 'Tweet Id', 'Text', 'Username'])\n",
    "print(len(new_tweets_df))"
   ]
  },
  {
   "cell_type": "markdown",
   "id": "ea4cbe77",
   "metadata": {
    "papermill": {
     "duration": 0.006729,
     "end_time": "2023-06-02T23:09:31.165051",
     "exception": false,
     "start_time": "2023-06-02T23:09:31.158322",
     "status": "completed"
    },
    "tags": []
   },
   "source": [
    "A general execution time for the entire code could be anywhere between 5 mins — 40 mins or even more, depending on the number of tweets fetched by your username or keyword query. If it takes longer than an hour, you might want to check your lines of code."
   ]
  },
  {
   "cell_type": "code",
   "execution_count": 7,
   "id": "634590ec",
   "metadata": {
    "execution": {
     "iopub.execute_input": "2023-06-02T23:09:31.180930Z",
     "iopub.status.busy": "2023-06-02T23:09:31.180516Z",
     "iopub.status.idle": "2023-06-02T23:09:31.193560Z",
     "shell.execute_reply": "2023-06-02T23:09:31.192269Z"
    },
    "papermill": {
     "duration": 0.023259,
     "end_time": "2023-06-02T23:09:31.195260",
     "exception": false,
     "start_time": "2023-06-02T23:09:31.172001",
     "status": "completed"
    },
    "tags": []
   },
   "outputs": [
    {
     "data": {
      "text/html": [
       "<div>\n",
       "<style scoped>\n",
       "    .dataframe tbody tr th:only-of-type {\n",
       "        vertical-align: middle;\n",
       "    }\n",
       "\n",
       "    .dataframe tbody tr th {\n",
       "        vertical-align: top;\n",
       "    }\n",
       "\n",
       "    .dataframe thead th {\n",
       "        text-align: right;\n",
       "    }\n",
       "</style>\n",
       "<table border=\"1\" class=\"dataframe\">\n",
       "  <thead>\n",
       "    <tr style=\"text-align: right;\">\n",
       "      <th></th>\n",
       "      <th>Datetime</th>\n",
       "      <th>Tweet Id</th>\n",
       "      <th>Text</th>\n",
       "      <th>Username</th>\n",
       "    </tr>\n",
       "  </thead>\n",
       "  <tbody>\n",
       "    <tr>\n",
       "      <th>0</th>\n",
       "      <td>2023-06-03 07:00:03+00:00</td>\n",
       "      <td>1664889668553576448</td>\n",
       "      <td>1.6 magnitude #earthquake. 65 km from Searles ...</td>\n",
       "      <td>QuakesToday</td>\n",
       "    </tr>\n",
       "    <tr>\n",
       "      <th>1</th>\n",
       "      <td>2023-06-03 06:59:03+00:00</td>\n",
       "      <td>1664889416438140928</td>\n",
       "      <td>2.8 magnitude #earthquake. 3 km from #Weldon, ...</td>\n",
       "      <td>QuakesToday</td>\n",
       "    </tr>\n",
       "    <tr>\n",
       "      <th>2</th>\n",
       "      <td>2023-06-03 06:56:03+00:00</td>\n",
       "      <td>1664888661165617154</td>\n",
       "      <td>4.9 magnitude #earthquake. 154 km from Las Kho...</td>\n",
       "      <td>QuakesToday</td>\n",
       "    </tr>\n",
       "    <tr>\n",
       "      <th>3</th>\n",
       "      <td>2023-06-03 06:49:03+00:00</td>\n",
       "      <td>1664886900224851970</td>\n",
       "      <td>4.9 magnitude #earthquake. 141 km from Las Kho...</td>\n",
       "      <td>QuakesToday</td>\n",
       "    </tr>\n",
       "    <tr>\n",
       "      <th>4</th>\n",
       "      <td>2023-06-03 06:42:03+00:00</td>\n",
       "      <td>1664885138705252354</td>\n",
       "      <td>5.2 magnitude #earthquake. 143 km from #LasKho...</td>\n",
       "      <td>QuakesToday</td>\n",
       "    </tr>\n",
       "    <tr>\n",
       "      <th>5</th>\n",
       "      <td>2023-06-03 06:04:04+00:00</td>\n",
       "      <td>1664875577785065472</td>\n",
       "      <td>1.5 magnitude #earthquake. 32 km from #Nikiski...</td>\n",
       "      <td>QuakesToday</td>\n",
       "    </tr>\n",
       "    <tr>\n",
       "      <th>6</th>\n",
       "      <td>2023-06-03 06:04:03+00:00</td>\n",
       "      <td>1664875576421916672</td>\n",
       "      <td>1.8 magnitude #earthquake. 60 km ESE of Ugashi...</td>\n",
       "      <td>QuakesToday</td>\n",
       "    </tr>\n",
       "    <tr>\n",
       "      <th>7</th>\n",
       "      <td>2023-06-03 05:37:02+00:00</td>\n",
       "      <td>1664868777312518144</td>\n",
       "      <td>4.3 magnitude #earthquake. Greenland Sea https...</td>\n",
       "      <td>QuakesToday</td>\n",
       "    </tr>\n",
       "    <tr>\n",
       "      <th>8</th>\n",
       "      <td>2023-06-03 05:15:03+00:00</td>\n",
       "      <td>1664863244597735425</td>\n",
       "      <td>4.1 magnitude #earthquake. 146 km WNW of Adak,...</td>\n",
       "      <td>QuakesToday</td>\n",
       "    </tr>\n",
       "    <tr>\n",
       "      <th>9</th>\n",
       "      <td>2023-06-03 05:05:03+00:00</td>\n",
       "      <td>1664860727356837889</td>\n",
       "      <td>2.6 magnitude #earthquake. 9 km from Pāhala, H...</td>\n",
       "      <td>QuakesToday</td>\n",
       "    </tr>\n",
       "  </tbody>\n",
       "</table>\n",
       "</div>"
      ],
      "text/plain": [
       "                   Datetime             Tweet Id  \\\n",
       "0 2023-06-03 07:00:03+00:00  1664889668553576448   \n",
       "1 2023-06-03 06:59:03+00:00  1664889416438140928   \n",
       "2 2023-06-03 06:56:03+00:00  1664888661165617154   \n",
       "3 2023-06-03 06:49:03+00:00  1664886900224851970   \n",
       "4 2023-06-03 06:42:03+00:00  1664885138705252354   \n",
       "5 2023-06-03 06:04:04+00:00  1664875577785065472   \n",
       "6 2023-06-03 06:04:03+00:00  1664875576421916672   \n",
       "7 2023-06-03 05:37:02+00:00  1664868777312518144   \n",
       "8 2023-06-03 05:15:03+00:00  1664863244597735425   \n",
       "9 2023-06-03 05:05:03+00:00  1664860727356837889   \n",
       "\n",
       "                                                Text     Username  \n",
       "0  1.6 magnitude #earthquake. 65 km from Searles ...  QuakesToday  \n",
       "1  2.8 magnitude #earthquake. 3 km from #Weldon, ...  QuakesToday  \n",
       "2  4.9 magnitude #earthquake. 154 km from Las Kho...  QuakesToday  \n",
       "3  4.9 magnitude #earthquake. 141 km from Las Kho...  QuakesToday  \n",
       "4  5.2 magnitude #earthquake. 143 km from #LasKho...  QuakesToday  \n",
       "5  1.5 magnitude #earthquake. 32 km from #Nikiski...  QuakesToday  \n",
       "6  1.8 magnitude #earthquake. 60 km ESE of Ugashi...  QuakesToday  \n",
       "7  4.3 magnitude #earthquake. Greenland Sea https...  QuakesToday  \n",
       "8  4.1 magnitude #earthquake. 146 km WNW of Adak,...  QuakesToday  \n",
       "9  2.6 magnitude #earthquake. 9 km from Pāhala, H...  QuakesToday  "
      ]
     },
     "execution_count": 7,
     "metadata": {},
     "output_type": "execute_result"
    }
   ],
   "source": [
    "new_tweets_df.head(10)"
   ]
  },
  {
   "cell_type": "code",
   "execution_count": 8,
   "id": "8fa68d76",
   "metadata": {
    "execution": {
     "iopub.execute_input": "2023-06-02T23:09:31.212139Z",
     "iopub.status.busy": "2023-06-02T23:09:31.210939Z",
     "iopub.status.idle": "2023-06-02T23:09:31.224845Z",
     "shell.execute_reply": "2023-06-02T23:09:31.223402Z"
    },
    "papermill": {
     "duration": 0.024268,
     "end_time": "2023-06-02T23:09:31.226778",
     "exception": false,
     "start_time": "2023-06-02T23:09:31.202510",
     "status": "completed"
    },
    "tags": []
   },
   "outputs": [
    {
     "data": {
      "text/html": [
       "<div>\n",
       "<style scoped>\n",
       "    .dataframe tbody tr th:only-of-type {\n",
       "        vertical-align: middle;\n",
       "    }\n",
       "\n",
       "    .dataframe tbody tr th {\n",
       "        vertical-align: top;\n",
       "    }\n",
       "\n",
       "    .dataframe thead th {\n",
       "        text-align: right;\n",
       "    }\n",
       "</style>\n",
       "<table border=\"1\" class=\"dataframe\">\n",
       "  <thead>\n",
       "    <tr style=\"text-align: right;\">\n",
       "      <th></th>\n",
       "      <th>Datetime</th>\n",
       "      <th>Tweet Id</th>\n",
       "      <th>Text</th>\n",
       "      <th>Username</th>\n",
       "    </tr>\n",
       "  </thead>\n",
       "  <tbody>\n",
       "    <tr>\n",
       "      <th>991</th>\n",
       "      <td>2023-05-24 21:28:04+00:00</td>\n",
       "      <td>1661484232068456448</td>\n",
       "      <td>1.9 magnitude #earthquake. 10 km from #Anza, #...</td>\n",
       "      <td>QuakesToday</td>\n",
       "    </tr>\n",
       "    <tr>\n",
       "      <th>992</th>\n",
       "      <td>2023-05-24 21:28:03+00:00</td>\n",
       "      <td>1661484229224722434</td>\n",
       "      <td>3.0 magnitude #earthquake. 35 km from #Sutton-...</td>\n",
       "      <td>QuakesToday</td>\n",
       "    </tr>\n",
       "    <tr>\n",
       "      <th>993</th>\n",
       "      <td>2023-05-24 21:21:03+00:00</td>\n",
       "      <td>1661482466862051328</td>\n",
       "      <td>2.3 magnitude #earthquake. 7 km from Volcano, ...</td>\n",
       "      <td>QuakesToday</td>\n",
       "    </tr>\n",
       "    <tr>\n",
       "      <th>994</th>\n",
       "      <td>2023-05-24 20:51:03+00:00</td>\n",
       "      <td>1661474916850597893</td>\n",
       "      <td>1.8 magnitude #earthquake. 5 km from #Volcano,...</td>\n",
       "      <td>QuakesToday</td>\n",
       "    </tr>\n",
       "    <tr>\n",
       "      <th>995</th>\n",
       "      <td>2023-05-24 20:25:03+00:00</td>\n",
       "      <td>1661468371941199872</td>\n",
       "      <td>2.0 magnitude #earthquake. 24 km from Volcano,...</td>\n",
       "      <td>QuakesToday</td>\n",
       "    </tr>\n",
       "    <tr>\n",
       "      <th>996</th>\n",
       "      <td>2023-05-24 20:24:03+00:00</td>\n",
       "      <td>1661468123508400128</td>\n",
       "      <td>3.2 magnitude #earthquake. 24 km from Stockton...</td>\n",
       "      <td>QuakesToday</td>\n",
       "    </tr>\n",
       "    <tr>\n",
       "      <th>997</th>\n",
       "      <td>2023-05-24 20:19:03+00:00</td>\n",
       "      <td>1661466864810356736</td>\n",
       "      <td>2.7 magnitude #earthquake. 14 km S of Ugashik,...</td>\n",
       "      <td>QuakesToday</td>\n",
       "    </tr>\n",
       "    <tr>\n",
       "      <th>998</th>\n",
       "      <td>2023-05-24 19:48:03+00:00</td>\n",
       "      <td>1661459060112363521</td>\n",
       "      <td>1.6 magnitude #earthquake. 72 km N of Karluk, ...</td>\n",
       "      <td>QuakesToday</td>\n",
       "    </tr>\n",
       "    <tr>\n",
       "      <th>999</th>\n",
       "      <td>2023-05-24 19:43:04+00:00</td>\n",
       "      <td>1661457807563182081</td>\n",
       "      <td>4.6 magnitude #earthquake. 179 km from Lebu, B...</td>\n",
       "      <td>QuakesToday</td>\n",
       "    </tr>\n",
       "    <tr>\n",
       "      <th>1000</th>\n",
       "      <td>2023-05-24 19:15:03+00:00</td>\n",
       "      <td>1661450757374353409</td>\n",
       "      <td>2.3 magnitude #earthquake. 11 km from #Garnet,...</td>\n",
       "      <td>QuakesToday</td>\n",
       "    </tr>\n",
       "  </tbody>\n",
       "</table>\n",
       "</div>"
      ],
      "text/plain": [
       "                      Datetime             Tweet Id  \\\n",
       "991  2023-05-24 21:28:04+00:00  1661484232068456448   \n",
       "992  2023-05-24 21:28:03+00:00  1661484229224722434   \n",
       "993  2023-05-24 21:21:03+00:00  1661482466862051328   \n",
       "994  2023-05-24 20:51:03+00:00  1661474916850597893   \n",
       "995  2023-05-24 20:25:03+00:00  1661468371941199872   \n",
       "996  2023-05-24 20:24:03+00:00  1661468123508400128   \n",
       "997  2023-05-24 20:19:03+00:00  1661466864810356736   \n",
       "998  2023-05-24 19:48:03+00:00  1661459060112363521   \n",
       "999  2023-05-24 19:43:04+00:00  1661457807563182081   \n",
       "1000 2023-05-24 19:15:03+00:00  1661450757374353409   \n",
       "\n",
       "                                                   Text     Username  \n",
       "991   1.9 magnitude #earthquake. 10 km from #Anza, #...  QuakesToday  \n",
       "992   3.0 magnitude #earthquake. 35 km from #Sutton-...  QuakesToday  \n",
       "993   2.3 magnitude #earthquake. 7 km from Volcano, ...  QuakesToday  \n",
       "994   1.8 magnitude #earthquake. 5 km from #Volcano,...  QuakesToday  \n",
       "995   2.0 magnitude #earthquake. 24 km from Volcano,...  QuakesToday  \n",
       "996   3.2 magnitude #earthquake. 24 km from Stockton...  QuakesToday  \n",
       "997   2.7 magnitude #earthquake. 14 km S of Ugashik,...  QuakesToday  \n",
       "998   1.6 magnitude #earthquake. 72 km N of Karluk, ...  QuakesToday  \n",
       "999   4.6 magnitude #earthquake. 179 km from Lebu, B...  QuakesToday  \n",
       "1000  2.3 magnitude #earthquake. 11 km from #Garnet,...  QuakesToday  "
      ]
     },
     "execution_count": 8,
     "metadata": {},
     "output_type": "execute_result"
    }
   ],
   "source": [
    "new_tweets_df.tail(10)"
   ]
  },
  {
   "cell_type": "code",
   "execution_count": 9,
   "id": "63989365",
   "metadata": {
    "execution": {
     "iopub.execute_input": "2023-06-02T23:09:31.243948Z",
     "iopub.status.busy": "2023-06-02T23:09:31.243223Z",
     "iopub.status.idle": "2023-06-02T23:09:31.249032Z",
     "shell.execute_reply": "2023-06-02T23:09:31.247820Z"
    },
    "papermill": {
     "duration": 0.020352,
     "end_time": "2023-06-02T23:09:31.254727",
     "exception": false,
     "start_time": "2023-06-02T23:09:31.234375",
     "status": "completed"
    },
    "tags": []
   },
   "outputs": [
    {
     "name": "stdout",
     "output_type": "stream",
     "text": [
      "1001\n"
     ]
    }
   ],
   "source": [
    "print(len(new_tweets_df))"
   ]
  },
  {
   "cell_type": "code",
   "execution_count": 10,
   "id": "b107de9e",
   "metadata": {
    "execution": {
     "iopub.execute_input": "2023-06-02T23:09:31.272139Z",
     "iopub.status.busy": "2023-06-02T23:09:31.271745Z",
     "iopub.status.idle": "2023-06-02T23:09:31.338338Z",
     "shell.execute_reply": "2023-06-02T23:09:31.336815Z"
    },
    "papermill": {
     "duration": 0.078257,
     "end_time": "2023-06-02T23:09:31.341029",
     "exception": false,
     "start_time": "2023-06-02T23:09:31.262772",
     "status": "completed"
    },
    "tags": []
   },
   "outputs": [
    {
     "name": "stdout",
     "output_type": "stream",
     "text": [
      "264\n"
     ]
    },
    {
     "data": {
      "text/html": [
       "<div>\n",
       "<style scoped>\n",
       "    .dataframe tbody tr th:only-of-type {\n",
       "        vertical-align: middle;\n",
       "    }\n",
       "\n",
       "    .dataframe tbody tr th {\n",
       "        vertical-align: top;\n",
       "    }\n",
       "\n",
       "    .dataframe thead th {\n",
       "        text-align: right;\n",
       "    }\n",
       "</style>\n",
       "<table border=\"1\" class=\"dataframe\">\n",
       "  <thead>\n",
       "    <tr style=\"text-align: right;\">\n",
       "      <th></th>\n",
       "      <th>Datetime</th>\n",
       "      <th>Tweet Id</th>\n",
       "      <th>Text</th>\n",
       "      <th>Username</th>\n",
       "    </tr>\n",
       "  </thead>\n",
       "  <tbody>\n",
       "    <tr>\n",
       "      <th>0</th>\n",
       "      <td>2023-06-03 07:00:03+00:00</td>\n",
       "      <td>1664889668553576448</td>\n",
       "      <td>1.6 magnitude #earthquake. 65 km from Searles ...</td>\n",
       "      <td>QuakesToday</td>\n",
       "    </tr>\n",
       "    <tr>\n",
       "      <th>1</th>\n",
       "      <td>2023-06-03 06:59:03+00:00</td>\n",
       "      <td>1664889416438140928</td>\n",
       "      <td>2.8 magnitude #earthquake. 3 km from #Weldon, ...</td>\n",
       "      <td>QuakesToday</td>\n",
       "    </tr>\n",
       "    <tr>\n",
       "      <th>2</th>\n",
       "      <td>2023-06-03 06:56:03+00:00</td>\n",
       "      <td>1664888661165617154</td>\n",
       "      <td>4.9 magnitude #earthquake. 154 km from Las Kho...</td>\n",
       "      <td>QuakesToday</td>\n",
       "    </tr>\n",
       "    <tr>\n",
       "      <th>3</th>\n",
       "      <td>2023-06-03 06:49:03+00:00</td>\n",
       "      <td>1664886900224851970</td>\n",
       "      <td>4.9 magnitude #earthquake. 141 km from Las Kho...</td>\n",
       "      <td>QuakesToday</td>\n",
       "    </tr>\n",
       "    <tr>\n",
       "      <th>4</th>\n",
       "      <td>2023-06-03 06:42:03+00:00</td>\n",
       "      <td>1664885138705252354</td>\n",
       "      <td>5.2 magnitude #earthquake. 143 km from #LasKho...</td>\n",
       "      <td>QuakesToday</td>\n",
       "    </tr>\n",
       "    <tr>\n",
       "      <th>...</th>\n",
       "      <td>...</td>\n",
       "      <td>...</td>\n",
       "      <td>...</td>\n",
       "      <td>...</td>\n",
       "    </tr>\n",
       "    <tr>\n",
       "      <th>260</th>\n",
       "      <td>2023-05-31 23:49:03+00:00</td>\n",
       "      <td>1664056426334142465</td>\n",
       "      <td>3.1 magnitude #earthquake. 74 km from #SanAnto...</td>\n",
       "      <td>QuakesToday</td>\n",
       "    </tr>\n",
       "    <tr>\n",
       "      <th>261</th>\n",
       "      <td>2023-05-31 23:44:03+00:00</td>\n",
       "      <td>1664055169183797248</td>\n",
       "      <td>2.1 magnitude #earthquake. 18 km from Summerli...</td>\n",
       "      <td>QuakesToday</td>\n",
       "    </tr>\n",
       "    <tr>\n",
       "      <th>262</th>\n",
       "      <td>2023-05-31 23:30:03+00:00</td>\n",
       "      <td>1664051646748577793</td>\n",
       "      <td>2.4 magnitude #earthquake. 10 km from Garnet, ...</td>\n",
       "      <td>QuakesToday</td>\n",
       "    </tr>\n",
       "    <tr>\n",
       "      <th>263</th>\n",
       "      <td>2023-05-31 23:24:04+00:00</td>\n",
       "      <td>1664050138371989508</td>\n",
       "      <td>2.3 magnitude #earthquake. 15 km from #Patters...</td>\n",
       "      <td>QuakesToday</td>\n",
       "    </tr>\n",
       "    <tr>\n",
       "      <th>264</th>\n",
       "      <td>2023-05-31 22:31:04+00:00</td>\n",
       "      <td>1664036800384598016</td>\n",
       "      <td>1.6 magnitude #earthquake. 22 km from Encinita...</td>\n",
       "      <td>QuakesToday</td>\n",
       "    </tr>\n",
       "  </tbody>\n",
       "</table>\n",
       "<p>265 rows × 4 columns</p>\n",
       "</div>"
      ],
      "text/plain": [
       "                     Datetime             Tweet Id  \\\n",
       "0   2023-06-03 07:00:03+00:00  1664889668553576448   \n",
       "1   2023-06-03 06:59:03+00:00  1664889416438140928   \n",
       "2   2023-06-03 06:56:03+00:00  1664888661165617154   \n",
       "3   2023-06-03 06:49:03+00:00  1664886900224851970   \n",
       "4   2023-06-03 06:42:03+00:00  1664885138705252354   \n",
       "..                        ...                  ...   \n",
       "260 2023-05-31 23:49:03+00:00  1664056426334142465   \n",
       "261 2023-05-31 23:44:03+00:00  1664055169183797248   \n",
       "262 2023-05-31 23:30:03+00:00  1664051646748577793   \n",
       "263 2023-05-31 23:24:04+00:00  1664050138371989508   \n",
       "264 2023-05-31 22:31:04+00:00  1664036800384598016   \n",
       "\n",
       "                                                  Text     Username  \n",
       "0    1.6 magnitude #earthquake. 65 km from Searles ...  QuakesToday  \n",
       "1    2.8 magnitude #earthquake. 3 km from #Weldon, ...  QuakesToday  \n",
       "2    4.9 magnitude #earthquake. 154 km from Las Kho...  QuakesToday  \n",
       "3    4.9 magnitude #earthquake. 141 km from Las Kho...  QuakesToday  \n",
       "4    5.2 magnitude #earthquake. 143 km from #LasKho...  QuakesToday  \n",
       "..                                                 ...          ...  \n",
       "260  3.1 magnitude #earthquake. 74 km from #SanAnto...  QuakesToday  \n",
       "261  2.1 magnitude #earthquake. 18 km from Summerli...  QuakesToday  \n",
       "262  2.4 magnitude #earthquake. 10 km from Garnet, ...  QuakesToday  \n",
       "263  2.3 magnitude #earthquake. 15 km from #Patters...  QuakesToday  \n",
       "264  1.6 magnitude #earthquake. 22 km from Encinita...  QuakesToday  \n",
       "\n",
       "[265 rows x 4 columns]"
      ]
     },
     "execution_count": 10,
     "metadata": {},
     "output_type": "execute_result"
    }
   ],
   "source": [
    "index = -1\n",
    "for i in range(len(new_tweets_df)):\n",
    "    if(latest_tweet_id == new_tweets_df.loc[i, 'Tweet Id']):\n",
    "        index = i\n",
    "        \n",
    "print(index)\n",
    "df_temp = new_tweets_df.iloc[:(index + 1), :]\n",
    "df_temp"
   ]
  },
  {
   "cell_type": "markdown",
   "id": "4e2829de",
   "metadata": {
    "papermill": {
     "duration": 0.007892,
     "end_time": "2023-06-02T23:09:31.357128",
     "exception": false,
     "start_time": "2023-06-02T23:09:31.349236",
     "status": "completed"
    },
    "tags": []
   },
   "source": [
    "## Updating the New Data in the Old Data"
   ]
  },
  {
   "cell_type": "code",
   "execution_count": 11,
   "id": "d90be1c6",
   "metadata": {
    "execution": {
     "iopub.execute_input": "2023-06-02T23:09:31.374654Z",
     "iopub.status.busy": "2023-06-02T23:09:31.374227Z",
     "iopub.status.idle": "2023-06-02T23:09:31.390735Z",
     "shell.execute_reply": "2023-06-02T23:09:31.388953Z"
    },
    "papermill": {
     "duration": 0.028424,
     "end_time": "2023-06-02T23:09:31.393352",
     "exception": false,
     "start_time": "2023-06-02T23:09:31.364928",
     "status": "completed"
    },
    "tags": []
   },
   "outputs": [
    {
     "name": "stdout",
     "output_type": "stream",
     "text": [
      "                   Datetime             Tweet Id  \\\n",
      "0 2023-06-03 07:00:03+00:00  1664889668553576448   \n",
      "1 2023-06-03 06:59:03+00:00  1664889416438140928   \n",
      "2 2023-06-03 06:56:03+00:00  1664888661165617154   \n",
      "3 2023-06-03 06:49:03+00:00  1664886900224851970   \n",
      "4 2023-06-03 06:42:03+00:00  1664885138705252354   \n",
      "5 2023-06-03 06:04:04+00:00  1664875577785065472   \n",
      "6 2023-06-03 06:04:03+00:00  1664875576421916672   \n",
      "7 2023-06-03 05:37:02+00:00  1664868777312518144   \n",
      "8 2023-06-03 05:15:03+00:00  1664863244597735425   \n",
      "9 2023-06-03 05:05:03+00:00  1664860727356837889   \n",
      "\n",
      "                                                Text     Username  \n",
      "0  1.6 magnitude #earthquake. 65 km from Searles ...  QuakesToday  \n",
      "1  2.8 magnitude #earthquake. 3 km from #Weldon, ...  QuakesToday  \n",
      "2  4.9 magnitude #earthquake. 154 km from Las Kho...  QuakesToday  \n",
      "3  4.9 magnitude #earthquake. 141 km from Las Kho...  QuakesToday  \n",
      "4  5.2 magnitude #earthquake. 143 km from #LasKho...  QuakesToday  \n",
      "5  1.5 magnitude #earthquake. 32 km from #Nikiski...  QuakesToday  \n",
      "6  1.8 magnitude #earthquake. 60 km ESE of Ugashi...  QuakesToday  \n",
      "7  4.3 magnitude #earthquake. Greenland Sea https...  QuakesToday  \n",
      "8  4.1 magnitude #earthquake. 146 km WNW of Adak,...  QuakesToday  \n",
      "9  2.6 magnitude #earthquake. 9 km from Pāhala, H...  QuakesToday  \n",
      "264\n"
     ]
    }
   ],
   "source": [
    "if(index != -1):\n",
    "    df_temp = df_temp.drop(len(df_temp) - 1, axis = 0)\n",
    "    df_temp.reset_index(inplace = True, drop = True)\n",
    "    print(df_temp.head(10))\n",
    "    print(len(df_temp))\n",
    "    old_tweets_df = pd.concat([df_temp, old_tweets_df], axis = 0)\n",
    "    old_tweets_df"
   ]
  },
  {
   "cell_type": "markdown",
   "id": "def173d4",
   "metadata": {
    "papermill": {
     "duration": 0.00737,
     "end_time": "2023-06-02T23:09:31.408768",
     "exception": false,
     "start_time": "2023-06-02T23:09:31.401398",
     "status": "completed"
    },
    "tags": []
   },
   "source": [
    "## Saving the Updated Data"
   ]
  },
  {
   "cell_type": "code",
   "execution_count": 12,
   "id": "709699cb",
   "metadata": {
    "execution": {
     "iopub.execute_input": "2023-06-02T23:09:31.425986Z",
     "iopub.status.busy": "2023-06-02T23:09:31.425595Z",
     "iopub.status.idle": "2023-06-02T23:09:31.431094Z",
     "shell.execute_reply": "2023-06-02T23:09:31.429913Z"
    },
    "papermill": {
     "duration": 0.017236,
     "end_time": "2023-06-02T23:09:31.433666",
     "exception": false,
     "start_time": "2023-06-02T23:09:31.416430",
     "status": "completed"
    },
    "tags": []
   },
   "outputs": [
    {
     "name": "stdout",
     "output_type": "stream",
     "text": [
      "12849\n"
     ]
    }
   ],
   "source": [
    "print(len(old_tweets_df))"
   ]
  },
  {
   "cell_type": "code",
   "execution_count": 13,
   "id": "202e4388",
   "metadata": {},
   "outputs": [],
   "source": [
    "df = old_tweets_df.copy()"
   ]
  },
  {
   "cell_type": "code",
   "execution_count": 14,
   "id": "a7a16d83",
   "metadata": {},
   "outputs": [
    {
     "data": {
      "text/html": [
       "<div>\n",
       "<style scoped>\n",
       "    .dataframe tbody tr th:only-of-type {\n",
       "        vertical-align: middle;\n",
       "    }\n",
       "\n",
       "    .dataframe tbody tr th {\n",
       "        vertical-align: top;\n",
       "    }\n",
       "\n",
       "    .dataframe thead th {\n",
       "        text-align: right;\n",
       "    }\n",
       "</style>\n",
       "<table border=\"1\" class=\"dataframe\">\n",
       "  <thead>\n",
       "    <tr style=\"text-align: right;\">\n",
       "      <th></th>\n",
       "      <th>Datetime</th>\n",
       "      <th>Tweet Id</th>\n",
       "      <th>Text</th>\n",
       "      <th>Username</th>\n",
       "    </tr>\n",
       "  </thead>\n",
       "  <tbody>\n",
       "    <tr>\n",
       "      <th>0</th>\n",
       "      <td>2023-06-03 07:00:03+00:00</td>\n",
       "      <td>1664889668553576448</td>\n",
       "      <td>1.6 magnitude #earthquake. 65 km from Searles ...</td>\n",
       "      <td>QuakesToday</td>\n",
       "    </tr>\n",
       "    <tr>\n",
       "      <th>1</th>\n",
       "      <td>2023-06-03 06:59:03+00:00</td>\n",
       "      <td>1664889416438140928</td>\n",
       "      <td>2.8 magnitude #earthquake. 3 km from #Weldon, ...</td>\n",
       "      <td>QuakesToday</td>\n",
       "    </tr>\n",
       "    <tr>\n",
       "      <th>2</th>\n",
       "      <td>2023-06-03 06:56:03+00:00</td>\n",
       "      <td>1664888661165617154</td>\n",
       "      <td>4.9 magnitude #earthquake. 154 km from Las Kho...</td>\n",
       "      <td>QuakesToday</td>\n",
       "    </tr>\n",
       "    <tr>\n",
       "      <th>3</th>\n",
       "      <td>2023-06-03 06:49:03+00:00</td>\n",
       "      <td>1664886900224851970</td>\n",
       "      <td>4.9 magnitude #earthquake. 141 km from Las Kho...</td>\n",
       "      <td>QuakesToday</td>\n",
       "    </tr>\n",
       "    <tr>\n",
       "      <th>4</th>\n",
       "      <td>2023-06-03 06:42:03+00:00</td>\n",
       "      <td>1664885138705252354</td>\n",
       "      <td>5.2 magnitude #earthquake. 143 km from #LasKho...</td>\n",
       "      <td>QuakesToday</td>\n",
       "    </tr>\n",
       "    <tr>\n",
       "      <th>...</th>\n",
       "      <td>...</td>\n",
       "      <td>...</td>\n",
       "      <td>...</td>\n",
       "      <td>...</td>\n",
       "    </tr>\n",
       "    <tr>\n",
       "      <th>12580</th>\n",
       "      <td>2023-02-16 22:08:02+00:00</td>\n",
       "      <td>1626342669235662848</td>\n",
       "      <td>1.7 magnitude #earthquake. 52 km from Homer, #...</td>\n",
       "      <td>QuakesToday</td>\n",
       "    </tr>\n",
       "    <tr>\n",
       "      <th>12581</th>\n",
       "      <td>2023-02-16 22:06:03+00:00</td>\n",
       "      <td>1626342168704212992</td>\n",
       "      <td>3.0 magnitude #earthquake. 41 km from #Willow,...</td>\n",
       "      <td>QuakesToday</td>\n",
       "    </tr>\n",
       "    <tr>\n",
       "      <th>12582</th>\n",
       "      <td>2023-02-16 21:53:03+00:00</td>\n",
       "      <td>1626338896798961664</td>\n",
       "      <td>4.8 magnitude #earthquake. Kermadec Islands, N...</td>\n",
       "      <td>QuakesToday</td>\n",
       "    </tr>\n",
       "    <tr>\n",
       "      <th>12583</th>\n",
       "      <td>2023-02-16 21:39:03+00:00</td>\n",
       "      <td>1626335374913204225</td>\n",
       "      <td>2.1 magnitude #earthquake. 3 km from ##Holtvil...</td>\n",
       "      <td>QuakesToday</td>\n",
       "    </tr>\n",
       "    <tr>\n",
       "      <th>12584</th>\n",
       "      <td>2023-02-16 21:17:03+00:00</td>\n",
       "      <td>1626329836838080512</td>\n",
       "      <td>1.9 magnitude #earthquake. 4 km from #MammothL...</td>\n",
       "      <td>QuakesToday</td>\n",
       "    </tr>\n",
       "  </tbody>\n",
       "</table>\n",
       "<p>12849 rows × 4 columns</p>\n",
       "</div>"
      ],
      "text/plain": [
       "                        Datetime             Tweet Id  \\\n",
       "0      2023-06-03 07:00:03+00:00  1664889668553576448   \n",
       "1      2023-06-03 06:59:03+00:00  1664889416438140928   \n",
       "2      2023-06-03 06:56:03+00:00  1664888661165617154   \n",
       "3      2023-06-03 06:49:03+00:00  1664886900224851970   \n",
       "4      2023-06-03 06:42:03+00:00  1664885138705252354   \n",
       "...                          ...                  ...   \n",
       "12580  2023-02-16 22:08:02+00:00  1626342669235662848   \n",
       "12581  2023-02-16 22:06:03+00:00  1626342168704212992   \n",
       "12582  2023-02-16 21:53:03+00:00  1626338896798961664   \n",
       "12583  2023-02-16 21:39:03+00:00  1626335374913204225   \n",
       "12584  2023-02-16 21:17:03+00:00  1626329836838080512   \n",
       "\n",
       "                                                    Text     Username  \n",
       "0      1.6 magnitude #earthquake. 65 km from Searles ...  QuakesToday  \n",
       "1      2.8 magnitude #earthquake. 3 km from #Weldon, ...  QuakesToday  \n",
       "2      4.9 magnitude #earthquake. 154 km from Las Kho...  QuakesToday  \n",
       "3      4.9 magnitude #earthquake. 141 km from Las Kho...  QuakesToday  \n",
       "4      5.2 magnitude #earthquake. 143 km from #LasKho...  QuakesToday  \n",
       "...                                                  ...          ...  \n",
       "12580  1.7 magnitude #earthquake. 52 km from Homer, #...  QuakesToday  \n",
       "12581  3.0 magnitude #earthquake. 41 km from #Willow,...  QuakesToday  \n",
       "12582  4.8 magnitude #earthquake. Kermadec Islands, N...  QuakesToday  \n",
       "12583  2.1 magnitude #earthquake. 3 km from ##Holtvil...  QuakesToday  \n",
       "12584  1.9 magnitude #earthquake. 4 km from #MammothL...  QuakesToday  \n",
       "\n",
       "[12849 rows x 4 columns]"
      ]
     },
     "execution_count": 14,
     "metadata": {},
     "output_type": "execute_result"
    }
   ],
   "source": [
    "df"
   ]
  },
  {
   "cell_type": "code",
   "execution_count": 15,
   "id": "2b2d2caf",
   "metadata": {},
   "outputs": [
    {
     "name": "stdout",
     "output_type": "stream",
     "text": [
      "<class 'pandas.core.frame.DataFrame'>\n",
      "Int64Index: 12849 entries, 0 to 12584\n",
      "Data columns (total 4 columns):\n",
      " #   Column    Non-Null Count  Dtype \n",
      "---  ------    --------------  ----- \n",
      " 0   Datetime  12849 non-null  object\n",
      " 1   Tweet Id  12849 non-null  int64 \n",
      " 2   Text      12849 non-null  object\n",
      " 3   Username  12849 non-null  object\n",
      "dtypes: int64(1), object(3)\n",
      "memory usage: 501.9+ KB\n"
     ]
    }
   ],
   "source": [
    "df.info()"
   ]
  },
  {
   "cell_type": "code",
   "execution_count": 16,
   "id": "6c85b8e5",
   "metadata": {},
   "outputs": [
    {
     "data": {
      "text/plain": [
       "Datetime    0\n",
       "Tweet Id    0\n",
       "Text        0\n",
       "Username    0\n",
       "dtype: int64"
      ]
     },
     "execution_count": 16,
     "metadata": {},
     "output_type": "execute_result"
    }
   ],
   "source": [
    "df.isna().sum()"
   ]
  },
  {
   "cell_type": "code",
   "execution_count": 17,
   "id": "54c93ff2",
   "metadata": {},
   "outputs": [],
   "source": [
    "# Convert the 'Datetime' column to datetime format using the specified format\n",
    "df['Datetime'] = pd.to_datetime(df['Datetime'], format='%Y-%m-%d %H:%M:%S.%f')\n",
    "\n",
    "# Extract the date from the 'Datetime' column and assign it to the 'Date' column\n",
    "df['Date'] = pd.to_datetime(df['Datetime']).dt.date\n",
    "\n",
    "# Extract the time from the 'Datetime' column and assign it to the 'Time' column\n",
    "df['Time'] = pd.to_datetime(df['Datetime']).dt.time\n",
    "\n",
    "# Drop the 'Datetime' column from the DataFrame\n",
    "df.drop(['Datetime'], axis=1, inplace=True)"
   ]
  },
  {
   "cell_type": "code",
   "execution_count": 18,
   "id": "5a1212d1",
   "metadata": {},
   "outputs": [
    {
     "name": "stdout",
     "output_type": "stream",
     "text": [
      "<class 'pandas.core.frame.DataFrame'>\n",
      "Int64Index: 12849 entries, 0 to 12584\n",
      "Data columns (total 5 columns):\n",
      " #   Column    Non-Null Count  Dtype \n",
      "---  ------    --------------  ----- \n",
      " 0   Tweet Id  12849 non-null  int64 \n",
      " 1   Text      12849 non-null  object\n",
      " 2   Username  12849 non-null  object\n",
      " 3   Date      12849 non-null  object\n",
      " 4   Time      12849 non-null  object\n",
      "dtypes: int64(1), object(4)\n",
      "memory usage: 602.3+ KB\n"
     ]
    }
   ],
   "source": [
    "df.info()"
   ]
  },
  {
   "cell_type": "code",
   "execution_count": 19,
   "id": "e508b024",
   "metadata": {},
   "outputs": [
    {
     "data": {
      "text/html": [
       "<div>\n",
       "<style scoped>\n",
       "    .dataframe tbody tr th:only-of-type {\n",
       "        vertical-align: middle;\n",
       "    }\n",
       "\n",
       "    .dataframe tbody tr th {\n",
       "        vertical-align: top;\n",
       "    }\n",
       "\n",
       "    .dataframe thead th {\n",
       "        text-align: right;\n",
       "    }\n",
       "</style>\n",
       "<table border=\"1\" class=\"dataframe\">\n",
       "  <thead>\n",
       "    <tr style=\"text-align: right;\">\n",
       "      <th></th>\n",
       "      <th>Date</th>\n",
       "      <th>Time</th>\n",
       "      <th>Tweet Id</th>\n",
       "      <th>Text</th>\n",
       "      <th>Username</th>\n",
       "    </tr>\n",
       "  </thead>\n",
       "  <tbody>\n",
       "    <tr>\n",
       "      <th>0</th>\n",
       "      <td>2023-06-03</td>\n",
       "      <td>07:00:03</td>\n",
       "      <td>1664889668553576448</td>\n",
       "      <td>1.6 magnitude #earthquake. 65 km from Searles ...</td>\n",
       "      <td>QuakesToday</td>\n",
       "    </tr>\n",
       "    <tr>\n",
       "      <th>1</th>\n",
       "      <td>2023-06-03</td>\n",
       "      <td>06:59:03</td>\n",
       "      <td>1664889416438140928</td>\n",
       "      <td>2.8 magnitude #earthquake. 3 km from #Weldon, ...</td>\n",
       "      <td>QuakesToday</td>\n",
       "    </tr>\n",
       "    <tr>\n",
       "      <th>2</th>\n",
       "      <td>2023-06-03</td>\n",
       "      <td>06:56:03</td>\n",
       "      <td>1664888661165617154</td>\n",
       "      <td>4.9 magnitude #earthquake. 154 km from Las Kho...</td>\n",
       "      <td>QuakesToday</td>\n",
       "    </tr>\n",
       "    <tr>\n",
       "      <th>3</th>\n",
       "      <td>2023-06-03</td>\n",
       "      <td>06:49:03</td>\n",
       "      <td>1664886900224851970</td>\n",
       "      <td>4.9 magnitude #earthquake. 141 km from Las Kho...</td>\n",
       "      <td>QuakesToday</td>\n",
       "    </tr>\n",
       "    <tr>\n",
       "      <th>4</th>\n",
       "      <td>2023-06-03</td>\n",
       "      <td>06:42:03</td>\n",
       "      <td>1664885138705252354</td>\n",
       "      <td>5.2 magnitude #earthquake. 143 km from #LasKho...</td>\n",
       "      <td>QuakesToday</td>\n",
       "    </tr>\n",
       "    <tr>\n",
       "      <th>...</th>\n",
       "      <td>...</td>\n",
       "      <td>...</td>\n",
       "      <td>...</td>\n",
       "      <td>...</td>\n",
       "      <td>...</td>\n",
       "    </tr>\n",
       "    <tr>\n",
       "      <th>12580</th>\n",
       "      <td>2023-02-16</td>\n",
       "      <td>22:08:02</td>\n",
       "      <td>1626342669235662848</td>\n",
       "      <td>1.7 magnitude #earthquake. 52 km from Homer, #...</td>\n",
       "      <td>QuakesToday</td>\n",
       "    </tr>\n",
       "    <tr>\n",
       "      <th>12581</th>\n",
       "      <td>2023-02-16</td>\n",
       "      <td>22:06:03</td>\n",
       "      <td>1626342168704212992</td>\n",
       "      <td>3.0 magnitude #earthquake. 41 km from #Willow,...</td>\n",
       "      <td>QuakesToday</td>\n",
       "    </tr>\n",
       "    <tr>\n",
       "      <th>12582</th>\n",
       "      <td>2023-02-16</td>\n",
       "      <td>21:53:03</td>\n",
       "      <td>1626338896798961664</td>\n",
       "      <td>4.8 magnitude #earthquake. Kermadec Islands, N...</td>\n",
       "      <td>QuakesToday</td>\n",
       "    </tr>\n",
       "    <tr>\n",
       "      <th>12583</th>\n",
       "      <td>2023-02-16</td>\n",
       "      <td>21:39:03</td>\n",
       "      <td>1626335374913204225</td>\n",
       "      <td>2.1 magnitude #earthquake. 3 km from ##Holtvil...</td>\n",
       "      <td>QuakesToday</td>\n",
       "    </tr>\n",
       "    <tr>\n",
       "      <th>12584</th>\n",
       "      <td>2023-02-16</td>\n",
       "      <td>21:17:03</td>\n",
       "      <td>1626329836838080512</td>\n",
       "      <td>1.9 magnitude #earthquake. 4 km from #MammothL...</td>\n",
       "      <td>QuakesToday</td>\n",
       "    </tr>\n",
       "  </tbody>\n",
       "</table>\n",
       "<p>12849 rows × 5 columns</p>\n",
       "</div>"
      ],
      "text/plain": [
       "             Date      Time             Tweet Id  \\\n",
       "0      2023-06-03  07:00:03  1664889668553576448   \n",
       "1      2023-06-03  06:59:03  1664889416438140928   \n",
       "2      2023-06-03  06:56:03  1664888661165617154   \n",
       "3      2023-06-03  06:49:03  1664886900224851970   \n",
       "4      2023-06-03  06:42:03  1664885138705252354   \n",
       "...           ...       ...                  ...   \n",
       "12580  2023-02-16  22:08:02  1626342669235662848   \n",
       "12581  2023-02-16  22:06:03  1626342168704212992   \n",
       "12582  2023-02-16  21:53:03  1626338896798961664   \n",
       "12583  2023-02-16  21:39:03  1626335374913204225   \n",
       "12584  2023-02-16  21:17:03  1626329836838080512   \n",
       "\n",
       "                                                    Text     Username  \n",
       "0      1.6 magnitude #earthquake. 65 km from Searles ...  QuakesToday  \n",
       "1      2.8 magnitude #earthquake. 3 km from #Weldon, ...  QuakesToday  \n",
       "2      4.9 magnitude #earthquake. 154 km from Las Kho...  QuakesToday  \n",
       "3      4.9 magnitude #earthquake. 141 km from Las Kho...  QuakesToday  \n",
       "4      5.2 magnitude #earthquake. 143 km from #LasKho...  QuakesToday  \n",
       "...                                                  ...          ...  \n",
       "12580  1.7 magnitude #earthquake. 52 km from Homer, #...  QuakesToday  \n",
       "12581  3.0 magnitude #earthquake. 41 km from #Willow,...  QuakesToday  \n",
       "12582  4.8 magnitude #earthquake. Kermadec Islands, N...  QuakesToday  \n",
       "12583  2.1 magnitude #earthquake. 3 km from ##Holtvil...  QuakesToday  \n",
       "12584  1.9 magnitude #earthquake. 4 km from #MammothL...  QuakesToday  \n",
       "\n",
       "[12849 rows x 5 columns]"
      ]
     },
     "execution_count": 19,
     "metadata": {},
     "output_type": "execute_result"
    }
   ],
   "source": [
    "df = df[['Date', 'Time', 'Tweet Id', 'Text', 'Username']]\n",
    "df"
   ]
  },
  {
   "cell_type": "code",
   "execution_count": 20,
   "id": "3bc3add8",
   "metadata": {},
   "outputs": [
    {
     "data": {
      "text/plain": [
       "array(['1.6 magnitude #earthquake. 65 km from Searles Valley, CA, ##UnitedStates https://t.co/KW98yPhREE',\n",
       "       '2.8 magnitude #earthquake. 3 km from #Weldon, CA, United States https://t.co/eQD4ruoGQz',\n",
       "       '4.9 magnitude #earthquake. 154 km from Las Khorey, #Sanaag, Somalia https://t.co/cUlAwC7Qmg',\n",
       "       ...,\n",
       "       '4.8 magnitude #earthquake. Kermadec Islands, New Zealand https://t.co/atdgauHafH',\n",
       "       '2.1 magnitude #earthquake. 3 km from ##Holtville, CA, United States https://t.co/YtaWs8CoPF',\n",
       "       '1.9 magnitude #earthquake. 4 km from #MammothLakes, CA, United States https://t.co/nh0y2vXwf6'],\n",
       "      dtype=object)"
      ]
     },
     "execution_count": 20,
     "metadata": {},
     "output_type": "execute_result"
    }
   ],
   "source": [
    "pd.set_option('display.max_colwidth', None)\n",
    "df['Text'].unique()"
   ]
  },
  {
   "cell_type": "code",
   "execution_count": 21,
   "id": "c3bca895",
   "metadata": {},
   "outputs": [],
   "source": [
    "# Extract the magnitude from the 'Text' column and assign it to the 'Magnitude' column\n",
    "df['Magnitude'] = df['Text'].str.extract(r'(\\d+\\.\\d+)')\n",
    "\n",
    "# Extract the location from the 'Text' column and assign it to the 'Location' column\n",
    "df['Location'] = df['Text'].str.extract(r'(\\d+ km .+) https://t.co/')"
   ]
  },
  {
   "cell_type": "code",
   "execution_count": 22,
   "id": "a8ab4807",
   "metadata": {},
   "outputs": [],
   "source": [
    "def split_text(n):\n",
    "    # Split the text at commas\n",
    "    split_result = df['Text'].iloc[n].split(', ')\n",
    "    \n",
    "    # Check if there are more than 2 parts after splitting at commas\n",
    "    if len(split_result) > 2:\n",
    "        split_text = split_result[2]\n",
    "        \n",
    "    # Check if there are more than 1 part after splitting at commas\n",
    "    elif len(split_result) > 1:\n",
    "        split_text = split_result[1]\n",
    "        \n",
    "    else:\n",
    "        # Split the text at periods\n",
    "        split_result = df['Text'].iloc[n].split('. ')\n",
    "        \n",
    "        # Check if there are at least 2 parts after splitting at periods\n",
    "        if len(split_result) >= 2:\n",
    "            split_text = split_result[1]\n",
    "        else:\n",
    "            split_text = ''  # Handle cases where splitting doesn't produce enough parts\n",
    "            \n",
    "    return split_text"
   ]
  },
  {
   "cell_type": "code",
   "execution_count": 23,
   "id": "86ea04e9",
   "metadata": {},
   "outputs": [],
   "source": [
    "df['Country'] = df.index.map(split_text)"
   ]
  },
  {
   "cell_type": "markdown",
   "id": "07d89a71",
   "metadata": {},
   "source": [
    "#### From the extraction data we will check if we get Nan data"
   ]
  },
  {
   "cell_type": "code",
   "execution_count": 24,
   "id": "bd945680",
   "metadata": {},
   "outputs": [
    {
     "data": {
      "text/html": [
       "<div>\n",
       "<style scoped>\n",
       "    .dataframe tbody tr th:only-of-type {\n",
       "        vertical-align: middle;\n",
       "    }\n",
       "\n",
       "    .dataframe tbody tr th {\n",
       "        vertical-align: top;\n",
       "    }\n",
       "\n",
       "    .dataframe thead th {\n",
       "        text-align: right;\n",
       "    }\n",
       "</style>\n",
       "<table border=\"1\" class=\"dataframe\">\n",
       "  <thead>\n",
       "    <tr style=\"text-align: right;\">\n",
       "      <th></th>\n",
       "      <th>Date</th>\n",
       "      <th>Time</th>\n",
       "      <th>Tweet Id</th>\n",
       "      <th>Text</th>\n",
       "      <th>Username</th>\n",
       "      <th>Magnitude</th>\n",
       "      <th>Location</th>\n",
       "      <th>Country</th>\n",
       "    </tr>\n",
       "  </thead>\n",
       "  <tbody>\n",
       "    <tr>\n",
       "      <th>0</th>\n",
       "      <td>2023-06-03</td>\n",
       "      <td>07:00:03</td>\n",
       "      <td>1664889668553576448</td>\n",
       "      <td>1.6 magnitude #earthquake. 65 km from Searles Valley, CA, ##UnitedStates https://t.co/KW98yPhREE</td>\n",
       "      <td>QuakesToday</td>\n",
       "      <td>1.6</td>\n",
       "      <td>65 km from Searles Valley, CA, ##UnitedStates</td>\n",
       "      <td>##UnitedStates https://t.co/KW98yPhREE</td>\n",
       "    </tr>\n",
       "    <tr>\n",
       "      <th>1</th>\n",
       "      <td>2023-06-03</td>\n",
       "      <td>06:59:03</td>\n",
       "      <td>1664889416438140928</td>\n",
       "      <td>2.8 magnitude #earthquake. 3 km from #Weldon, CA, United States https://t.co/eQD4ruoGQz</td>\n",
       "      <td>QuakesToday</td>\n",
       "      <td>2.8</td>\n",
       "      <td>3 km from #Weldon, CA, United States</td>\n",
       "      <td>United States https://t.co/eQD4ruoGQz</td>\n",
       "    </tr>\n",
       "    <tr>\n",
       "      <th>2</th>\n",
       "      <td>2023-06-03</td>\n",
       "      <td>06:56:03</td>\n",
       "      <td>1664888661165617154</td>\n",
       "      <td>4.9 magnitude #earthquake. 154 km from Las Khorey, #Sanaag, Somalia https://t.co/cUlAwC7Qmg</td>\n",
       "      <td>QuakesToday</td>\n",
       "      <td>4.9</td>\n",
       "      <td>154 km from Las Khorey, #Sanaag, Somalia</td>\n",
       "      <td>Somalia https://t.co/cUlAwC7Qmg</td>\n",
       "    </tr>\n",
       "    <tr>\n",
       "      <th>3</th>\n",
       "      <td>2023-06-03</td>\n",
       "      <td>06:49:03</td>\n",
       "      <td>1664886900224851970</td>\n",
       "      <td>4.9 magnitude #earthquake. 141 km from Las Khorey, #Sanaag, Somalia https://t.co/3wj4vFeYUY</td>\n",
       "      <td>QuakesToday</td>\n",
       "      <td>4.9</td>\n",
       "      <td>141 km from Las Khorey, #Sanaag, Somalia</td>\n",
       "      <td>Somalia https://t.co/3wj4vFeYUY</td>\n",
       "    </tr>\n",
       "    <tr>\n",
       "      <th>4</th>\n",
       "      <td>2023-06-03</td>\n",
       "      <td>06:42:03</td>\n",
       "      <td>1664885138705252354</td>\n",
       "      <td>5.2 magnitude #earthquake. 143 km from #LasKhorey, Sanaag, Somalia https://t.co/UBTwaaJjjE</td>\n",
       "      <td>QuakesToday</td>\n",
       "      <td>5.2</td>\n",
       "      <td>143 km from #LasKhorey, Sanaag, Somalia</td>\n",
       "      <td>Somalia https://t.co/UBTwaaJjjE</td>\n",
       "    </tr>\n",
       "    <tr>\n",
       "      <th>...</th>\n",
       "      <td>...</td>\n",
       "      <td>...</td>\n",
       "      <td>...</td>\n",
       "      <td>...</td>\n",
       "      <td>...</td>\n",
       "      <td>...</td>\n",
       "      <td>...</td>\n",
       "      <td>...</td>\n",
       "    </tr>\n",
       "    <tr>\n",
       "      <th>12580</th>\n",
       "      <td>2023-02-16</td>\n",
       "      <td>22:08:02</td>\n",
       "      <td>1626342669235662848</td>\n",
       "      <td>1.7 magnitude #earthquake. 52 km from Homer, #AK, United States https://t.co/tSFzBcv6F7</td>\n",
       "      <td>QuakesToday</td>\n",
       "      <td>1.7</td>\n",
       "      <td>52 km from Homer, #AK, United States</td>\n",
       "      <td>Dominican Republic https://t.co/KMfME6WcnS</td>\n",
       "    </tr>\n",
       "    <tr>\n",
       "      <th>12581</th>\n",
       "      <td>2023-02-16</td>\n",
       "      <td>22:06:03</td>\n",
       "      <td>1626342168704212992</td>\n",
       "      <td>3.0 magnitude #earthquake. 41 km from #Willow, AK, United States https://t.co/MxATnkiXzn</td>\n",
       "      <td>QuakesToday</td>\n",
       "      <td>3.0</td>\n",
       "      <td>41 km from #Willow, AK, United States</td>\n",
       "      <td>United States https://t.co/QTDXlUTkPE</td>\n",
       "    </tr>\n",
       "    <tr>\n",
       "      <th>12582</th>\n",
       "      <td>2023-02-16</td>\n",
       "      <td>21:53:03</td>\n",
       "      <td>1626338896798961664</td>\n",
       "      <td>4.8 magnitude #earthquake. Kermadec Islands, New Zealand https://t.co/atdgauHafH</td>\n",
       "      <td>QuakesToday</td>\n",
       "      <td>4.8</td>\n",
       "      <td>NaN</td>\n",
       "      <td>Philippines https://t.co/eOqqJNeIEb</td>\n",
       "    </tr>\n",
       "    <tr>\n",
       "      <th>12583</th>\n",
       "      <td>2023-02-16</td>\n",
       "      <td>21:39:03</td>\n",
       "      <td>1626335374913204225</td>\n",
       "      <td>2.1 magnitude #earthquake. 3 km from ##Holtville, CA, United States https://t.co/YtaWs8CoPF</td>\n",
       "      <td>QuakesToday</td>\n",
       "      <td>2.1</td>\n",
       "      <td>3 km from ##Holtville, CA, United States</td>\n",
       "      <td>United States https://t.co/CwSmvz8WGd</td>\n",
       "    </tr>\n",
       "    <tr>\n",
       "      <th>12584</th>\n",
       "      <td>2023-02-16</td>\n",
       "      <td>21:17:03</td>\n",
       "      <td>1626329836838080512</td>\n",
       "      <td>1.9 magnitude #earthquake. 4 km from #MammothLakes, CA, United States https://t.co/nh0y2vXwf6</td>\n",
       "      <td>QuakesToday</td>\n",
       "      <td>1.9</td>\n",
       "      <td>4 km from #MammothLakes, CA, United States</td>\n",
       "      <td>Democratic Republic of the Congo https://t.co/kaYgP7ZWoL</td>\n",
       "    </tr>\n",
       "  </tbody>\n",
       "</table>\n",
       "<p>12849 rows × 8 columns</p>\n",
       "</div>"
      ],
      "text/plain": [
       "             Date      Time             Tweet Id  \\\n",
       "0      2023-06-03  07:00:03  1664889668553576448   \n",
       "1      2023-06-03  06:59:03  1664889416438140928   \n",
       "2      2023-06-03  06:56:03  1664888661165617154   \n",
       "3      2023-06-03  06:49:03  1664886900224851970   \n",
       "4      2023-06-03  06:42:03  1664885138705252354   \n",
       "...           ...       ...                  ...   \n",
       "12580  2023-02-16  22:08:02  1626342669235662848   \n",
       "12581  2023-02-16  22:06:03  1626342168704212992   \n",
       "12582  2023-02-16  21:53:03  1626338896798961664   \n",
       "12583  2023-02-16  21:39:03  1626335374913204225   \n",
       "12584  2023-02-16  21:17:03  1626329836838080512   \n",
       "\n",
       "                                                                                                   Text  \\\n",
       "0      1.6 magnitude #earthquake. 65 km from Searles Valley, CA, ##UnitedStates https://t.co/KW98yPhREE   \n",
       "1               2.8 magnitude #earthquake. 3 km from #Weldon, CA, United States https://t.co/eQD4ruoGQz   \n",
       "2           4.9 magnitude #earthquake. 154 km from Las Khorey, #Sanaag, Somalia https://t.co/cUlAwC7Qmg   \n",
       "3           4.9 magnitude #earthquake. 141 km from Las Khorey, #Sanaag, Somalia https://t.co/3wj4vFeYUY   \n",
       "4            5.2 magnitude #earthquake. 143 km from #LasKhorey, Sanaag, Somalia https://t.co/UBTwaaJjjE   \n",
       "...                                                                                                 ...   \n",
       "12580           1.7 magnitude #earthquake. 52 km from Homer, #AK, United States https://t.co/tSFzBcv6F7   \n",
       "12581          3.0 magnitude #earthquake. 41 km from #Willow, AK, United States https://t.co/MxATnkiXzn   \n",
       "12582                  4.8 magnitude #earthquake. Kermadec Islands, New Zealand https://t.co/atdgauHafH   \n",
       "12583       2.1 magnitude #earthquake. 3 km from ##Holtville, CA, United States https://t.co/YtaWs8CoPF   \n",
       "12584     1.9 magnitude #earthquake. 4 km from #MammothLakes, CA, United States https://t.co/nh0y2vXwf6   \n",
       "\n",
       "          Username Magnitude                                       Location  \\\n",
       "0      QuakesToday       1.6  65 km from Searles Valley, CA, ##UnitedStates   \n",
       "1      QuakesToday       2.8           3 km from #Weldon, CA, United States   \n",
       "2      QuakesToday       4.9       154 km from Las Khorey, #Sanaag, Somalia   \n",
       "3      QuakesToday       4.9       141 km from Las Khorey, #Sanaag, Somalia   \n",
       "4      QuakesToday       5.2        143 km from #LasKhorey, Sanaag, Somalia   \n",
       "...            ...       ...                                            ...   \n",
       "12580  QuakesToday       1.7           52 km from Homer, #AK, United States   \n",
       "12581  QuakesToday       3.0          41 km from #Willow, AK, United States   \n",
       "12582  QuakesToday       4.8                                            NaN   \n",
       "12583  QuakesToday       2.1       3 km from ##Holtville, CA, United States   \n",
       "12584  QuakesToday       1.9     4 km from #MammothLakes, CA, United States   \n",
       "\n",
       "                                                        Country  \n",
       "0                        ##UnitedStates https://t.co/KW98yPhREE  \n",
       "1                         United States https://t.co/eQD4ruoGQz  \n",
       "2                               Somalia https://t.co/cUlAwC7Qmg  \n",
       "3                               Somalia https://t.co/3wj4vFeYUY  \n",
       "4                               Somalia https://t.co/UBTwaaJjjE  \n",
       "...                                                         ...  \n",
       "12580                Dominican Republic https://t.co/KMfME6WcnS  \n",
       "12581                     United States https://t.co/QTDXlUTkPE  \n",
       "12582                       Philippines https://t.co/eOqqJNeIEb  \n",
       "12583                     United States https://t.co/CwSmvz8WGd  \n",
       "12584  Democratic Republic of the Congo https://t.co/kaYgP7ZWoL  \n",
       "\n",
       "[12849 rows x 8 columns]"
      ]
     },
     "execution_count": 24,
     "metadata": {},
     "output_type": "execute_result"
    }
   ],
   "source": [
    "df"
   ]
  },
  {
   "cell_type": "code",
   "execution_count": 25,
   "id": "158c82cd",
   "metadata": {},
   "outputs": [
    {
     "data": {
      "text/plain": [
       "Date           0\n",
       "Time           0\n",
       "Tweet Id       0\n",
       "Text           0\n",
       "Username       0\n",
       "Magnitude      0\n",
       "Location     834\n",
       "Country        0\n",
       "dtype: int64"
      ]
     },
     "execution_count": 25,
     "metadata": {},
     "output_type": "execute_result"
    }
   ],
   "source": [
    "df.isna().sum()"
   ]
  },
  {
   "cell_type": "code",
   "execution_count": 26,
   "id": "f8f1f049",
   "metadata": {},
   "outputs": [],
   "source": [
    "df.dropna(inplace = True)"
   ]
  },
  {
   "cell_type": "code",
   "execution_count": 27,
   "id": "9a9ab57f",
   "metadata": {},
   "outputs": [],
   "source": [
    "# Remove the '#' character from the 'Country' column\n",
    "df['Country'] = df['Country'].str.replace('#', '')"
   ]
  },
  {
   "cell_type": "code",
   "execution_count": 28,
   "id": "b573ae63",
   "metadata": {},
   "outputs": [],
   "source": [
    "# Extract the 'Link_Map' from the 'Country' column using a regular expression pattern\n",
    "df['Link_Map'] = df['Country'].str.extract(r'(https://t.co/.+)')\n",
    "\n",
    "# Extract the country from the 'Country' column using a regular expression pattern\n",
    "df['Country'] = df['Country'].str.extract(r'(\\S.+) https://t.co/')"
   ]
  },
  {
   "cell_type": "code",
   "execution_count": 29,
   "id": "a0e4b09c",
   "metadata": {},
   "outputs": [
    {
     "data": {
      "text/html": [
       "<div>\n",
       "<style scoped>\n",
       "    .dataframe tbody tr th:only-of-type {\n",
       "        vertical-align: middle;\n",
       "    }\n",
       "\n",
       "    .dataframe tbody tr th {\n",
       "        vertical-align: top;\n",
       "    }\n",
       "\n",
       "    .dataframe thead th {\n",
       "        text-align: right;\n",
       "    }\n",
       "</style>\n",
       "<table border=\"1\" class=\"dataframe\">\n",
       "  <thead>\n",
       "    <tr style=\"text-align: right;\">\n",
       "      <th></th>\n",
       "      <th>Date</th>\n",
       "      <th>Time</th>\n",
       "      <th>Tweet Id</th>\n",
       "      <th>Text</th>\n",
       "      <th>Username</th>\n",
       "      <th>Magnitude</th>\n",
       "      <th>Location</th>\n",
       "      <th>Country</th>\n",
       "      <th>Link_Map</th>\n",
       "    </tr>\n",
       "  </thead>\n",
       "  <tbody>\n",
       "    <tr>\n",
       "      <th>0</th>\n",
       "      <td>2023-06-03</td>\n",
       "      <td>07:00:03</td>\n",
       "      <td>1664889668553576448</td>\n",
       "      <td>1.6 magnitude #earthquake. 65 km from Searles Valley, CA, ##UnitedStates https://t.co/KW98yPhREE</td>\n",
       "      <td>QuakesToday</td>\n",
       "      <td>1.6</td>\n",
       "      <td>65 km from Searles Valley, CA, ##UnitedStates</td>\n",
       "      <td>UnitedStates</td>\n",
       "      <td>https://t.co/KW98yPhREE</td>\n",
       "    </tr>\n",
       "    <tr>\n",
       "      <th>1</th>\n",
       "      <td>2023-06-03</td>\n",
       "      <td>06:59:03</td>\n",
       "      <td>1664889416438140928</td>\n",
       "      <td>2.8 magnitude #earthquake. 3 km from #Weldon, CA, United States https://t.co/eQD4ruoGQz</td>\n",
       "      <td>QuakesToday</td>\n",
       "      <td>2.8</td>\n",
       "      <td>3 km from #Weldon, CA, United States</td>\n",
       "      <td>United States</td>\n",
       "      <td>https://t.co/eQD4ruoGQz</td>\n",
       "    </tr>\n",
       "    <tr>\n",
       "      <th>2</th>\n",
       "      <td>2023-06-03</td>\n",
       "      <td>06:56:03</td>\n",
       "      <td>1664888661165617154</td>\n",
       "      <td>4.9 magnitude #earthquake. 154 km from Las Khorey, #Sanaag, Somalia https://t.co/cUlAwC7Qmg</td>\n",
       "      <td>QuakesToday</td>\n",
       "      <td>4.9</td>\n",
       "      <td>154 km from Las Khorey, #Sanaag, Somalia</td>\n",
       "      <td>Somalia</td>\n",
       "      <td>https://t.co/cUlAwC7Qmg</td>\n",
       "    </tr>\n",
       "    <tr>\n",
       "      <th>3</th>\n",
       "      <td>2023-06-03</td>\n",
       "      <td>06:49:03</td>\n",
       "      <td>1664886900224851970</td>\n",
       "      <td>4.9 magnitude #earthquake. 141 km from Las Khorey, #Sanaag, Somalia https://t.co/3wj4vFeYUY</td>\n",
       "      <td>QuakesToday</td>\n",
       "      <td>4.9</td>\n",
       "      <td>141 km from Las Khorey, #Sanaag, Somalia</td>\n",
       "      <td>Somalia</td>\n",
       "      <td>https://t.co/3wj4vFeYUY</td>\n",
       "    </tr>\n",
       "    <tr>\n",
       "      <th>4</th>\n",
       "      <td>2023-06-03</td>\n",
       "      <td>06:42:03</td>\n",
       "      <td>1664885138705252354</td>\n",
       "      <td>5.2 magnitude #earthquake. 143 km from #LasKhorey, Sanaag, Somalia https://t.co/UBTwaaJjjE</td>\n",
       "      <td>QuakesToday</td>\n",
       "      <td>5.2</td>\n",
       "      <td>143 km from #LasKhorey, Sanaag, Somalia</td>\n",
       "      <td>Somalia</td>\n",
       "      <td>https://t.co/UBTwaaJjjE</td>\n",
       "    </tr>\n",
       "    <tr>\n",
       "      <th>...</th>\n",
       "      <td>...</td>\n",
       "      <td>...</td>\n",
       "      <td>...</td>\n",
       "      <td>...</td>\n",
       "      <td>...</td>\n",
       "      <td>...</td>\n",
       "      <td>...</td>\n",
       "      <td>...</td>\n",
       "      <td>...</td>\n",
       "    </tr>\n",
       "    <tr>\n",
       "      <th>12579</th>\n",
       "      <td>2023-02-16</td>\n",
       "      <td>22:14:04</td>\n",
       "      <td>1626344183933050881</td>\n",
       "      <td>1.9 magnitude #earthquake. 8 km from #Ridgecrest, CA, #UnitedStates https://t.co/i0iisBlTcL</td>\n",
       "      <td>QuakesToday</td>\n",
       "      <td>1.9</td>\n",
       "      <td>8 km from #Ridgecrest, CA, #UnitedStates</td>\n",
       "      <td>Alaska</td>\n",
       "      <td>https://t.co/3PzAxgFobh</td>\n",
       "    </tr>\n",
       "    <tr>\n",
       "      <th>12580</th>\n",
       "      <td>2023-02-16</td>\n",
       "      <td>22:08:02</td>\n",
       "      <td>1626342669235662848</td>\n",
       "      <td>1.7 magnitude #earthquake. 52 km from Homer, #AK, United States https://t.co/tSFzBcv6F7</td>\n",
       "      <td>QuakesToday</td>\n",
       "      <td>1.7</td>\n",
       "      <td>52 km from Homer, #AK, United States</td>\n",
       "      <td>Dominican Republic</td>\n",
       "      <td>https://t.co/KMfME6WcnS</td>\n",
       "    </tr>\n",
       "    <tr>\n",
       "      <th>12581</th>\n",
       "      <td>2023-02-16</td>\n",
       "      <td>22:06:03</td>\n",
       "      <td>1626342168704212992</td>\n",
       "      <td>3.0 magnitude #earthquake. 41 km from #Willow, AK, United States https://t.co/MxATnkiXzn</td>\n",
       "      <td>QuakesToday</td>\n",
       "      <td>3.0</td>\n",
       "      <td>41 km from #Willow, AK, United States</td>\n",
       "      <td>United States</td>\n",
       "      <td>https://t.co/QTDXlUTkPE</td>\n",
       "    </tr>\n",
       "    <tr>\n",
       "      <th>12583</th>\n",
       "      <td>2023-02-16</td>\n",
       "      <td>21:39:03</td>\n",
       "      <td>1626335374913204225</td>\n",
       "      <td>2.1 magnitude #earthquake. 3 km from ##Holtville, CA, United States https://t.co/YtaWs8CoPF</td>\n",
       "      <td>QuakesToday</td>\n",
       "      <td>2.1</td>\n",
       "      <td>3 km from ##Holtville, CA, United States</td>\n",
       "      <td>United States</td>\n",
       "      <td>https://t.co/CwSmvz8WGd</td>\n",
       "    </tr>\n",
       "    <tr>\n",
       "      <th>12584</th>\n",
       "      <td>2023-02-16</td>\n",
       "      <td>21:17:03</td>\n",
       "      <td>1626329836838080512</td>\n",
       "      <td>1.9 magnitude #earthquake. 4 km from #MammothLakes, CA, United States https://t.co/nh0y2vXwf6</td>\n",
       "      <td>QuakesToday</td>\n",
       "      <td>1.9</td>\n",
       "      <td>4 km from #MammothLakes, CA, United States</td>\n",
       "      <td>Democratic Republic of the Congo</td>\n",
       "      <td>https://t.co/kaYgP7ZWoL</td>\n",
       "    </tr>\n",
       "  </tbody>\n",
       "</table>\n",
       "<p>12015 rows × 9 columns</p>\n",
       "</div>"
      ],
      "text/plain": [
       "             Date      Time             Tweet Id  \\\n",
       "0      2023-06-03  07:00:03  1664889668553576448   \n",
       "1      2023-06-03  06:59:03  1664889416438140928   \n",
       "2      2023-06-03  06:56:03  1664888661165617154   \n",
       "3      2023-06-03  06:49:03  1664886900224851970   \n",
       "4      2023-06-03  06:42:03  1664885138705252354   \n",
       "...           ...       ...                  ...   \n",
       "12579  2023-02-16  22:14:04  1626344183933050881   \n",
       "12580  2023-02-16  22:08:02  1626342669235662848   \n",
       "12581  2023-02-16  22:06:03  1626342168704212992   \n",
       "12583  2023-02-16  21:39:03  1626335374913204225   \n",
       "12584  2023-02-16  21:17:03  1626329836838080512   \n",
       "\n",
       "                                                                                                   Text  \\\n",
       "0      1.6 magnitude #earthquake. 65 km from Searles Valley, CA, ##UnitedStates https://t.co/KW98yPhREE   \n",
       "1               2.8 magnitude #earthquake. 3 km from #Weldon, CA, United States https://t.co/eQD4ruoGQz   \n",
       "2           4.9 magnitude #earthquake. 154 km from Las Khorey, #Sanaag, Somalia https://t.co/cUlAwC7Qmg   \n",
       "3           4.9 magnitude #earthquake. 141 km from Las Khorey, #Sanaag, Somalia https://t.co/3wj4vFeYUY   \n",
       "4            5.2 magnitude #earthquake. 143 km from #LasKhorey, Sanaag, Somalia https://t.co/UBTwaaJjjE   \n",
       "...                                                                                                 ...   \n",
       "12579       1.9 magnitude #earthquake. 8 km from #Ridgecrest, CA, #UnitedStates https://t.co/i0iisBlTcL   \n",
       "12580           1.7 magnitude #earthquake. 52 km from Homer, #AK, United States https://t.co/tSFzBcv6F7   \n",
       "12581          3.0 magnitude #earthquake. 41 km from #Willow, AK, United States https://t.co/MxATnkiXzn   \n",
       "12583       2.1 magnitude #earthquake. 3 km from ##Holtville, CA, United States https://t.co/YtaWs8CoPF   \n",
       "12584     1.9 magnitude #earthquake. 4 km from #MammothLakes, CA, United States https://t.co/nh0y2vXwf6   \n",
       "\n",
       "          Username Magnitude                                       Location  \\\n",
       "0      QuakesToday       1.6  65 km from Searles Valley, CA, ##UnitedStates   \n",
       "1      QuakesToday       2.8           3 km from #Weldon, CA, United States   \n",
       "2      QuakesToday       4.9       154 km from Las Khorey, #Sanaag, Somalia   \n",
       "3      QuakesToday       4.9       141 km from Las Khorey, #Sanaag, Somalia   \n",
       "4      QuakesToday       5.2        143 km from #LasKhorey, Sanaag, Somalia   \n",
       "...            ...       ...                                            ...   \n",
       "12579  QuakesToday       1.9       8 km from #Ridgecrest, CA, #UnitedStates   \n",
       "12580  QuakesToday       1.7           52 km from Homer, #AK, United States   \n",
       "12581  QuakesToday       3.0          41 km from #Willow, AK, United States   \n",
       "12583  QuakesToday       2.1       3 km from ##Holtville, CA, United States   \n",
       "12584  QuakesToday       1.9     4 km from #MammothLakes, CA, United States   \n",
       "\n",
       "                                Country                 Link_Map  \n",
       "0                          UnitedStates  https://t.co/KW98yPhREE  \n",
       "1                         United States  https://t.co/eQD4ruoGQz  \n",
       "2                               Somalia  https://t.co/cUlAwC7Qmg  \n",
       "3                               Somalia  https://t.co/3wj4vFeYUY  \n",
       "4                               Somalia  https://t.co/UBTwaaJjjE  \n",
       "...                                 ...                      ...  \n",
       "12579                            Alaska  https://t.co/3PzAxgFobh  \n",
       "12580                Dominican Republic  https://t.co/KMfME6WcnS  \n",
       "12581                     United States  https://t.co/QTDXlUTkPE  \n",
       "12583                     United States  https://t.co/CwSmvz8WGd  \n",
       "12584  Democratic Republic of the Congo  https://t.co/kaYgP7ZWoL  \n",
       "\n",
       "[12015 rows x 9 columns]"
      ]
     },
     "execution_count": 29,
     "metadata": {},
     "output_type": "execute_result"
    }
   ],
   "source": [
    "df"
   ]
  },
  {
   "cell_type": "code",
   "execution_count": 30,
   "id": "d55a5979",
   "metadata": {},
   "outputs": [
    {
     "data": {
      "text/plain": [
       "array(['UnitedStates', 'United States', 'Somalia', 'Alaska', 'Peru',\n",
       "       'Vanuatu', 'Puerto Rico', 'Argentina', 'Philippines',\n",
       "       'DominicanRepublic', 'Russia', 'Indonesia', 'Nicaragua', 'Tonga',\n",
       "       'Fiji', 'Greece', 'Papua New Guinea', 'PuertoRico',\n",
       "       'U.S.VirginIslands', 'Guam', 'Solomon Islands', 'China',\n",
       "       'U.S. Virgin Islands', 'Guatemala', 'PapuaNewGuinea',\n",
       "       'Ascension Island region', 'Southern Alaska', 'Fiji region',\n",
       "       'Banda Sea', 'Kuril Islands', 'Southeast of the Loyalty Islands',\n",
       "       'Northern Mariana Islands', 'Revilla Gigedo Islands region',\n",
       "       'Mexico', 'Alaska Peninsula', 'Myanmar', 'Ecuador',\n",
       "       'South of the Fiji Islands', 'South Sandwich Islands region',\n",
       "       'Turkmenistan', 'New Zealand region', 'Japan', 'Gulf of Alaska',\n",
       "       'Tajikistan', 'Chile', 'Northern Alaska', 'Japan region',\n",
       "       'Southwest of Africa', 'Vanuatu region', 'Central Alaska',\n",
       "       'Dominican Republic', 'Colombia', 'Owen Fracture Zone region',\n",
       "       'India', 'India region', 'Bhutan', 'Pacific-Antarctic Ridge',\n",
       "       'Australia', 'Afghanistan', 'BritishVirginIslands',\n",
       "       'Puerto Rico region', 'British Virgin Islands',\n",
       "       'Xinjiang-Xizang border region', 'Nevada',\n",
       "       'Svalbard and Jan Mayen', 'Panama', 'West Chile Rise',\n",
       "       'Prince Edward Islands region', 'Bolivia', 'Canada',\n",
       "       'Western Indian-Antarctic Ridge', 'Southeastern Alaska', 'Turkey',\n",
       "       'Syria', 'Venezuela', 'East Timor', 'Southwest Indian Ridge',\n",
       "       'Nepal', 'New Caledonia', 'Romania', 'Iran',\n",
       "       'West of Macquarie Island', 'El Salvador', 'South Indian Ocean',\n",
       "       'NewCaledonia', 'Mona Passage', 'Central East Pacific Rise',\n",
       "       'Carlsberg Ridge', 'Kazakhstan', 'North Atlantic Ocean', 'Italy',\n",
       "       'Honduras', 'Eritrea', 'Barbados', 'Greenland Sea',\n",
       "       'Reykjanes Ridge', 'Federated States of Micronesia',\n",
       "       'Mid-Indian Ridge', 'New Zealand', 'South of Tonga', 'Yemen',\n",
       "       'Malta', 'Taiwan', 'Central Mid-Atlantic Ridge',\n",
       "       'Off the coast of Central America', 'North of Svalbard',\n",
       "       'Off the coast of Oregon', 'Bermuda', 'SolomonIslands', 'Zambia',\n",
       "       'Ethiopia', 'Southern East Pacific Rise', 'Anguilla',\n",
       "       'East of Severnaya Zemlya',\n",
       "       'East of the North Island of New Zealand', 'Bangladesh', 'Iceland',\n",
       "       'South of the Kermadec Islands', 'Northern Mid-Atlantic Ridge',\n",
       "       'Montenegro', 'CA', 'NewZealand', 'Kermadec Islands region',\n",
       "       'North of Ascension Island', 'Pakistan', 'South of Alaska',\n",
       "       'Russia region', 'Antigua and Barbuda', 'Oregon',\n",
       "       'Wallis and Futuna', 'Off the east coast of the United States',\n",
       "       'Greenland', 'Bering Strait', 'EastTimor', 'Western Australia',\n",
       "       'Guadeloupe', 'Jan Mayen Island region',\n",
       "       'Off the coast of northern Peru', 'Jamaica', 'Tanzania', nan,\n",
       "       'Kyrgyzstan', 'Micronesia', 'Southern Mid-Atlantic Ridge',\n",
       "       'Western Xizang', 'California', 'Santa Cruz Islands region',\n",
       "       'Brazil', 'Tunisia', 'Malaysia', 'Costa Rica', 'Canada region',\n",
       "       'South of the Aleutian Islands', 'Southeast Indian Ridge',\n",
       "       'Austria', 'Virgin Islands region', 'Uganda',\n",
       "       'Saint Vincent and the Grenadines', 'Azerbaijan', 'Albania',\n",
       "       'France', 'Norwegian Sea', 'CostaRica', 'ElSalvador', 'Iraq',\n",
       "       'Cyprus', 'Off the east coast of the South Island of New Zealand',\n",
       "       'Uzbekistan', 'Saint Helena', 'NorthernMarianaIslands',\n",
       "       'Timor Leste', 'Scotia Sea', 'East of the South Sandwich Islands',\n",
       "       \"D'Entrecasteaux Islands region\", 'Mariana Islands region',\n",
       "       'South Georgia Island region', 'Armenia',\n",
       "       'Off the coast of southern Peru', 'Northern East Pacific Rise',\n",
       "       'Portugal', 'Cuba', 'Lebanon', 'Haiti',\n",
       "       'Galapagos Triple Junction region', 'South of Panama',\n",
       "       'South Pacific Ocean', 'Democratic Republic of the Congo'],\n",
       "      dtype=object)"
      ]
     },
     "execution_count": 30,
     "metadata": {},
     "output_type": "execute_result"
    }
   ],
   "source": [
    "df['Country'].unique()"
   ]
  },
  {
   "cell_type": "code",
   "execution_count": 31,
   "id": "42111295",
   "metadata": {},
   "outputs": [],
   "source": [
    "df['Country'] = df['Country'].str.replace(' ', '')"
   ]
  },
  {
   "cell_type": "code",
   "execution_count": 32,
   "id": "890c763b",
   "metadata": {},
   "outputs": [
    {
     "data": {
      "text/html": [
       "<div>\n",
       "<style scoped>\n",
       "    .dataframe tbody tr th:only-of-type {\n",
       "        vertical-align: middle;\n",
       "    }\n",
       "\n",
       "    .dataframe tbody tr th {\n",
       "        vertical-align: top;\n",
       "    }\n",
       "\n",
       "    .dataframe thead th {\n",
       "        text-align: right;\n",
       "    }\n",
       "</style>\n",
       "<table border=\"1\" class=\"dataframe\">\n",
       "  <thead>\n",
       "    <tr style=\"text-align: right;\">\n",
       "      <th></th>\n",
       "      <th>Date</th>\n",
       "      <th>Time</th>\n",
       "      <th>Tweet Id</th>\n",
       "      <th>Text</th>\n",
       "      <th>Username</th>\n",
       "      <th>Magnitude</th>\n",
       "      <th>Location</th>\n",
       "      <th>Country</th>\n",
       "      <th>Link_Map</th>\n",
       "    </tr>\n",
       "  </thead>\n",
       "  <tbody>\n",
       "    <tr>\n",
       "      <th>0</th>\n",
       "      <td>2023-06-03</td>\n",
       "      <td>07:00:03</td>\n",
       "      <td>1664889668553576448</td>\n",
       "      <td>1.6 magnitude #earthquake. 65 km from Searles Valley, CA, ##UnitedStates https://t.co/KW98yPhREE</td>\n",
       "      <td>QuakesToday</td>\n",
       "      <td>1.6</td>\n",
       "      <td>65 km from Searles Valley, CA, ##UnitedStates</td>\n",
       "      <td>UnitedStates</td>\n",
       "      <td>https://t.co/KW98yPhREE</td>\n",
       "    </tr>\n",
       "    <tr>\n",
       "      <th>1</th>\n",
       "      <td>2023-06-03</td>\n",
       "      <td>06:59:03</td>\n",
       "      <td>1664889416438140928</td>\n",
       "      <td>2.8 magnitude #earthquake. 3 km from #Weldon, CA, United States https://t.co/eQD4ruoGQz</td>\n",
       "      <td>QuakesToday</td>\n",
       "      <td>2.8</td>\n",
       "      <td>3 km from #Weldon, CA, United States</td>\n",
       "      <td>UnitedStates</td>\n",
       "      <td>https://t.co/eQD4ruoGQz</td>\n",
       "    </tr>\n",
       "    <tr>\n",
       "      <th>2</th>\n",
       "      <td>2023-06-03</td>\n",
       "      <td>06:56:03</td>\n",
       "      <td>1664888661165617154</td>\n",
       "      <td>4.9 magnitude #earthquake. 154 km from Las Khorey, #Sanaag, Somalia https://t.co/cUlAwC7Qmg</td>\n",
       "      <td>QuakesToday</td>\n",
       "      <td>4.9</td>\n",
       "      <td>154 km from Las Khorey, #Sanaag, Somalia</td>\n",
       "      <td>Somalia</td>\n",
       "      <td>https://t.co/cUlAwC7Qmg</td>\n",
       "    </tr>\n",
       "    <tr>\n",
       "      <th>3</th>\n",
       "      <td>2023-06-03</td>\n",
       "      <td>06:49:03</td>\n",
       "      <td>1664886900224851970</td>\n",
       "      <td>4.9 magnitude #earthquake. 141 km from Las Khorey, #Sanaag, Somalia https://t.co/3wj4vFeYUY</td>\n",
       "      <td>QuakesToday</td>\n",
       "      <td>4.9</td>\n",
       "      <td>141 km from Las Khorey, #Sanaag, Somalia</td>\n",
       "      <td>Somalia</td>\n",
       "      <td>https://t.co/3wj4vFeYUY</td>\n",
       "    </tr>\n",
       "    <tr>\n",
       "      <th>4</th>\n",
       "      <td>2023-06-03</td>\n",
       "      <td>06:42:03</td>\n",
       "      <td>1664885138705252354</td>\n",
       "      <td>5.2 magnitude #earthquake. 143 km from #LasKhorey, Sanaag, Somalia https://t.co/UBTwaaJjjE</td>\n",
       "      <td>QuakesToday</td>\n",
       "      <td>5.2</td>\n",
       "      <td>143 km from #LasKhorey, Sanaag, Somalia</td>\n",
       "      <td>Somalia</td>\n",
       "      <td>https://t.co/UBTwaaJjjE</td>\n",
       "    </tr>\n",
       "    <tr>\n",
       "      <th>...</th>\n",
       "      <td>...</td>\n",
       "      <td>...</td>\n",
       "      <td>...</td>\n",
       "      <td>...</td>\n",
       "      <td>...</td>\n",
       "      <td>...</td>\n",
       "      <td>...</td>\n",
       "      <td>...</td>\n",
       "      <td>...</td>\n",
       "    </tr>\n",
       "    <tr>\n",
       "      <th>12579</th>\n",
       "      <td>2023-02-16</td>\n",
       "      <td>22:14:04</td>\n",
       "      <td>1626344183933050881</td>\n",
       "      <td>1.9 magnitude #earthquake. 8 km from #Ridgecrest, CA, #UnitedStates https://t.co/i0iisBlTcL</td>\n",
       "      <td>QuakesToday</td>\n",
       "      <td>1.9</td>\n",
       "      <td>8 km from #Ridgecrest, CA, #UnitedStates</td>\n",
       "      <td>Alaska</td>\n",
       "      <td>https://t.co/3PzAxgFobh</td>\n",
       "    </tr>\n",
       "    <tr>\n",
       "      <th>12580</th>\n",
       "      <td>2023-02-16</td>\n",
       "      <td>22:08:02</td>\n",
       "      <td>1626342669235662848</td>\n",
       "      <td>1.7 magnitude #earthquake. 52 km from Homer, #AK, United States https://t.co/tSFzBcv6F7</td>\n",
       "      <td>QuakesToday</td>\n",
       "      <td>1.7</td>\n",
       "      <td>52 km from Homer, #AK, United States</td>\n",
       "      <td>DominicanRepublic</td>\n",
       "      <td>https://t.co/KMfME6WcnS</td>\n",
       "    </tr>\n",
       "    <tr>\n",
       "      <th>12581</th>\n",
       "      <td>2023-02-16</td>\n",
       "      <td>22:06:03</td>\n",
       "      <td>1626342168704212992</td>\n",
       "      <td>3.0 magnitude #earthquake. 41 km from #Willow, AK, United States https://t.co/MxATnkiXzn</td>\n",
       "      <td>QuakesToday</td>\n",
       "      <td>3.0</td>\n",
       "      <td>41 km from #Willow, AK, United States</td>\n",
       "      <td>UnitedStates</td>\n",
       "      <td>https://t.co/QTDXlUTkPE</td>\n",
       "    </tr>\n",
       "    <tr>\n",
       "      <th>12583</th>\n",
       "      <td>2023-02-16</td>\n",
       "      <td>21:39:03</td>\n",
       "      <td>1626335374913204225</td>\n",
       "      <td>2.1 magnitude #earthquake. 3 km from ##Holtville, CA, United States https://t.co/YtaWs8CoPF</td>\n",
       "      <td>QuakesToday</td>\n",
       "      <td>2.1</td>\n",
       "      <td>3 km from ##Holtville, CA, United States</td>\n",
       "      <td>UnitedStates</td>\n",
       "      <td>https://t.co/CwSmvz8WGd</td>\n",
       "    </tr>\n",
       "    <tr>\n",
       "      <th>12584</th>\n",
       "      <td>2023-02-16</td>\n",
       "      <td>21:17:03</td>\n",
       "      <td>1626329836838080512</td>\n",
       "      <td>1.9 magnitude #earthquake. 4 km from #MammothLakes, CA, United States https://t.co/nh0y2vXwf6</td>\n",
       "      <td>QuakesToday</td>\n",
       "      <td>1.9</td>\n",
       "      <td>4 km from #MammothLakes, CA, United States</td>\n",
       "      <td>DemocraticRepublicoftheCongo</td>\n",
       "      <td>https://t.co/kaYgP7ZWoL</td>\n",
       "    </tr>\n",
       "  </tbody>\n",
       "</table>\n",
       "<p>12015 rows × 9 columns</p>\n",
       "</div>"
      ],
      "text/plain": [
       "             Date      Time             Tweet Id  \\\n",
       "0      2023-06-03  07:00:03  1664889668553576448   \n",
       "1      2023-06-03  06:59:03  1664889416438140928   \n",
       "2      2023-06-03  06:56:03  1664888661165617154   \n",
       "3      2023-06-03  06:49:03  1664886900224851970   \n",
       "4      2023-06-03  06:42:03  1664885138705252354   \n",
       "...           ...       ...                  ...   \n",
       "12579  2023-02-16  22:14:04  1626344183933050881   \n",
       "12580  2023-02-16  22:08:02  1626342669235662848   \n",
       "12581  2023-02-16  22:06:03  1626342168704212992   \n",
       "12583  2023-02-16  21:39:03  1626335374913204225   \n",
       "12584  2023-02-16  21:17:03  1626329836838080512   \n",
       "\n",
       "                                                                                                   Text  \\\n",
       "0      1.6 magnitude #earthquake. 65 km from Searles Valley, CA, ##UnitedStates https://t.co/KW98yPhREE   \n",
       "1               2.8 magnitude #earthquake. 3 km from #Weldon, CA, United States https://t.co/eQD4ruoGQz   \n",
       "2           4.9 magnitude #earthquake. 154 km from Las Khorey, #Sanaag, Somalia https://t.co/cUlAwC7Qmg   \n",
       "3           4.9 magnitude #earthquake. 141 km from Las Khorey, #Sanaag, Somalia https://t.co/3wj4vFeYUY   \n",
       "4            5.2 magnitude #earthquake. 143 km from #LasKhorey, Sanaag, Somalia https://t.co/UBTwaaJjjE   \n",
       "...                                                                                                 ...   \n",
       "12579       1.9 magnitude #earthquake. 8 km from #Ridgecrest, CA, #UnitedStates https://t.co/i0iisBlTcL   \n",
       "12580           1.7 magnitude #earthquake. 52 km from Homer, #AK, United States https://t.co/tSFzBcv6F7   \n",
       "12581          3.0 magnitude #earthquake. 41 km from #Willow, AK, United States https://t.co/MxATnkiXzn   \n",
       "12583       2.1 magnitude #earthquake. 3 km from ##Holtville, CA, United States https://t.co/YtaWs8CoPF   \n",
       "12584     1.9 magnitude #earthquake. 4 km from #MammothLakes, CA, United States https://t.co/nh0y2vXwf6   \n",
       "\n",
       "          Username Magnitude                                       Location  \\\n",
       "0      QuakesToday       1.6  65 km from Searles Valley, CA, ##UnitedStates   \n",
       "1      QuakesToday       2.8           3 km from #Weldon, CA, United States   \n",
       "2      QuakesToday       4.9       154 km from Las Khorey, #Sanaag, Somalia   \n",
       "3      QuakesToday       4.9       141 km from Las Khorey, #Sanaag, Somalia   \n",
       "4      QuakesToday       5.2        143 km from #LasKhorey, Sanaag, Somalia   \n",
       "...            ...       ...                                            ...   \n",
       "12579  QuakesToday       1.9       8 km from #Ridgecrest, CA, #UnitedStates   \n",
       "12580  QuakesToday       1.7           52 km from Homer, #AK, United States   \n",
       "12581  QuakesToday       3.0          41 km from #Willow, AK, United States   \n",
       "12583  QuakesToday       2.1       3 km from ##Holtville, CA, United States   \n",
       "12584  QuakesToday       1.9     4 km from #MammothLakes, CA, United States   \n",
       "\n",
       "                            Country                 Link_Map  \n",
       "0                      UnitedStates  https://t.co/KW98yPhREE  \n",
       "1                      UnitedStates  https://t.co/eQD4ruoGQz  \n",
       "2                           Somalia  https://t.co/cUlAwC7Qmg  \n",
       "3                           Somalia  https://t.co/3wj4vFeYUY  \n",
       "4                           Somalia  https://t.co/UBTwaaJjjE  \n",
       "...                             ...                      ...  \n",
       "12579                        Alaska  https://t.co/3PzAxgFobh  \n",
       "12580             DominicanRepublic  https://t.co/KMfME6WcnS  \n",
       "12581                  UnitedStates  https://t.co/QTDXlUTkPE  \n",
       "12583                  UnitedStates  https://t.co/CwSmvz8WGd  \n",
       "12584  DemocraticRepublicoftheCongo  https://t.co/kaYgP7ZWoL  \n",
       "\n",
       "[12015 rows x 9 columns]"
      ]
     },
     "execution_count": 32,
     "metadata": {},
     "output_type": "execute_result"
    }
   ],
   "source": [
    "df"
   ]
  },
  {
   "cell_type": "code",
   "execution_count": 33,
   "id": "8825be3c",
   "metadata": {},
   "outputs": [
    {
     "data": {
      "text/plain": [
       "173"
      ]
     },
     "execution_count": 33,
     "metadata": {},
     "output_type": "execute_result"
    }
   ],
   "source": [
    "df['Country'].nunique()"
   ]
  },
  {
   "cell_type": "code",
   "execution_count": 34,
   "id": "5f82f1ff",
   "metadata": {},
   "outputs": [
    {
     "data": {
      "text/plain": [
       "Date         0\n",
       "Time         0\n",
       "Tweet Id     0\n",
       "Text         0\n",
       "Username     0\n",
       "Magnitude    0\n",
       "Location     0\n",
       "Country      1\n",
       "Link_Map     0\n",
       "dtype: int64"
      ]
     },
     "execution_count": 34,
     "metadata": {},
     "output_type": "execute_result"
    }
   ],
   "source": [
    "df.isna().sum()"
   ]
  },
  {
   "cell_type": "code",
   "execution_count": 35,
   "id": "86236af0",
   "metadata": {},
   "outputs": [],
   "source": [
    "df.dropna(inplace = True)"
   ]
  },
  {
   "cell_type": "code",
   "execution_count": 36,
   "id": "fb487145",
   "metadata": {
    "execution": {
     "iopub.execute_input": "2023-06-02T23:09:31.450780Z",
     "iopub.status.busy": "2023-06-02T23:09:31.450341Z",
     "iopub.status.idle": "2023-06-02T23:09:31.505637Z",
     "shell.execute_reply": "2023-06-02T23:09:31.504749Z"
    },
    "papermill": {
     "duration": 0.066542,
     "end_time": "2023-06-02T23:09:31.508099",
     "exception": false,
     "start_time": "2023-06-02T23:09:31.441557",
     "status": "completed"
    },
    "tags": []
   },
   "outputs": [],
   "source": [
    "old_tweets_df.to_csv('QuakesToday.csv', index = False)"
   ]
  },
  {
   "cell_type": "code",
   "execution_count": 37,
   "id": "e42add8b",
   "metadata": {},
   "outputs": [
    {
     "data": {
      "text/plain": [
       "UnitedStates    6872\n",
       "Alaska          1655\n",
       "PuertoRico      1059\n",
       "Indonesia        201\n",
       "Japan            135\n",
       "Name: Country, dtype: int64"
      ]
     },
     "execution_count": 37,
     "metadata": {},
     "output_type": "execute_result"
    }
   ],
   "source": [
    "# See the 5 highest news for earthquake \n",
    "df['Country'].value_counts().head(5)"
   ]
  },
  {
   "cell_type": "code",
   "execution_count": 38,
   "id": "c15def51",
   "metadata": {},
   "outputs": [
    {
     "data": {
      "image/png": "[encoded data removed]",
      "text/plain": [
       "<Figure size 1800x800 with 2 Axes>"
      ]
     },
     "metadata": {},
     "output_type": "display_data"
    }
   ],
   "source": [
    "fig, ax = plt.subplots(1, 2, figsize=(18, 8))\n",
    "\n",
    "# Plotting pie chart for 'Country' column\n",
    "df['Country'].value_counts().head(5).plot.pie(explode=[0.1, 0, 0, 0, 0], autopct='%1.1f%%', ax=ax[0], shadow=True)\n",
    "ax[0].set_title('Earthquake count by Country')\n",
    "ax[0].set_ylabel('')\n",
    "\n",
    "# Plotting countplot for 'Country' column\n",
    "ax[1] = df['Country'].value_counts().head(5).plot.bar()\n",
    "ax[1].set_title('Earthquake count by Country')\n",
    "\n",
    "plt.show()  # Display the figure"
   ]
  },
  {
   "cell_type": "markdown",
   "id": "2fa1b9a6",
   "metadata": {
    "papermill": {
     "duration": 0.007338,
     "end_time": "2023-06-02T23:09:31.523517",
     "exception": false,
     "start_time": "2023-06-02T23:09:31.516179",
     "status": "completed"
    },
    "tags": []
   },
   "source": [
    "The dataset will automatically get updated from the output of this notebook."
   ]
  },
  {
   "cell_type": "markdown",
   "id": "757e4fe3",
   "metadata": {
    "papermill": {
     "duration": 0.007514,
     "end_time": "2023-06-02T23:09:31.538681",
     "exception": false,
     "start_time": "2023-06-02T23:09:31.531167",
     "status": "completed"
    },
    "tags": []
   },
   "source": [
    "Thanks for reading:)"
   ]
  }
 ],
 "metadata": {
  "kernelspec": {
   "display_name": "py_",
   "language": "python",
   "name": "py_"
  },
  "language_info": {
   "codemirror_mode": {
    "name": "ipython",
    "version": 3
   },
   "file_extension": ".py",
   "mimetype": "text/x-python",
   "name": "python",
   "nbconvert_exporter": "python",
   "pygments_lexer": "ipython3",
   "version": "3.9.16"
  },
  "papermill": {
   "default_parameters": {},
   "duration": 160.825782,
   "end_time": "2023-06-02T23:09:34.842101",
   "environment_variables": {},
   "exception": null,
   "input_path": "__notebook__.ipynb",
   "output_path": "__notebook__.ipynb",
   "parameters": {},
   "start_time": "2023-06-02T23:06:54.016319",
   "version": "2.4.0"
  }
 },
 "nbformat": 4,
 "nbformat_minor": 5
}
